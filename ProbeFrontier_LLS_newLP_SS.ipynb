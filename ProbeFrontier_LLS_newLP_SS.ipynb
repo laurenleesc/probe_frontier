{
 "cells": [
  {
   "cell_type": "code",
   "execution_count": 1,
   "metadata": {},
   "outputs": [],
   "source": [
    "########## SECTION 1 - Importing Required Packages and Functions ###############################\n",
    "import pandas as pd\n",
    "import numpy as np \n",
    "from simulate import generateData\n",
    "from sklearn.preprocessing import StandardScaler\n",
    "sc = StandardScaler()\n",
    "from scipy.optimize import linprog"
   ]
  },
  {
   "cell_type": "code",
   "execution_count": 2,
   "metadata": {},
   "outputs": [],
   "source": [
    "########## SECTION 2 - Generating Simulated Dataset ############################################\n",
    "\n",
    "# number of observations\n",
    "n=4000\n",
    "\n",
    "# number of (Gaussian) covariates\n",
    "p=20\n",
    "\n",
    "# signal strength\n",
    "signal_strength = 5\n",
    "\n",
    "# Parameters for Distribution to draw Betas from. Betas ~ N(mu, stdev^2)\n",
    "mu = 0\n",
    "stdev = 1.0\n",
    "\n",
    "# Generate the data\n",
    "# - X is an (n,p+1) dimensional array with the n rows corresponding to observations and the p+1 columns\n",
    "#   corresponding to the covariates + a column of 1's (for the intercept term)\n",
    "# - Beta is the (p+1,) dimensional array of 'True' regression coefficients\n",
    "# - y is the (n,) dimensional array of response values for the observations\n",
    "# - means is the (n,) dimensional array of predicted values (probabilities in case of logistic)\n",
    "# *THOUGHT: Perhaps we could use another term instead of means to avoid confusion with the systematic component?\n",
    "# * perhaps y_hat, preds, etc?\n",
    "X, Beta, y, means = generateData(dist = 'bernoulli', n = n, p = p, mu = mu, stdev = stdev, signal_strength = signal_strength) "
   ]
  },
  {
   "cell_type": "code",
   "execution_count": 3,
   "metadata": {},
   "outputs": [
    {
     "data": {
      "text/plain": [
       "5.000000000000001"
      ]
     },
     "execution_count": 3,
     "metadata": {},
     "output_type": "execute_result"
    }
   ],
   "source": [
    "# Sanity Check 1: Should be equal to signal strength\n",
    "Beta.dot(Beta)/n"
   ]
  },
  {
   "cell_type": "code",
   "execution_count": 4,
   "metadata": {},
   "outputs": [],
   "source": [
    "# Sanity check 2 - Ignore\n",
    "#from simulate import generateRandomBeta\n",
    "#beta = generateRandomBeta(q=p, mu=mu, stdev=stdev)\n",
    "#bb = beta * np.sqrt( (n * signal_strength) / beta.T.dot(beta).values[0,0] )\n",
    "#bb.values.T.dot(bb.values)/n # check"
   ]
  },
  {
   "cell_type": "code",
   "execution_count": 5,
   "metadata": {},
   "outputs": [],
   "source": [
    "# Combining the predictor and response data into a single pandas dataframe df\n",
    "df = pd.DataFrame(X)\n",
    "y = np.array(y)\n",
    "y = np.where(y>0,1,-1)# Changed label 0 to -1, For convenience, we choose the label as {-1,1} instead of {0,1}\n",
    "df['y'] = pd.Series(y)"
   ]
  },
  {
   "cell_type": "code",
   "execution_count": 6,
   "metadata": {},
   "outputs": [
    {
     "data": {
      "text/plain": [
       "(array([ 91.,  97.,  58.,  68.,  63.,  51.,  62.,  57.,  49.,  42.,  45.,\n",
       "         46.,  42.,  44.,  41.,  42.,  41.,  44.,  34.,  39.,  46.,  39.,\n",
       "         37.,  31.,  38.,  37.,  36.,  32.,  31.,  36.,  26.,  35.,  26.,\n",
       "         31.,  33.,  23.,  35.,  22.,  34.,  36.,  24.,  26.,  23.,  32.,\n",
       "         33.,  24.,  40.,  36.,  30.,  31.,  33.,  32.,  33.,  37.,  26.,\n",
       "         28.,  20.,  26.,  29.,  23.,  25.,  30.,  25.,  30.,  23.,  30.,\n",
       "         30.,  37.,  27.,  35.,  42.,  26.,  34.,  32.,  25.,  30.,  43.,\n",
       "         37.,  49.,  39.,  33.,  39.,  32.,  39.,  44.,  52.,  42.,  32.,\n",
       "         37.,  39.,  47.,  48.,  55.,  68.,  58.,  73.,  62.,  70., 102.]),\n",
       " array([0.00099991, 0.01098515, 0.02097039, 0.03095563, 0.04094087,\n",
       "        0.05092611, 0.06091135, 0.07089658, 0.08088182, 0.09086706,\n",
       "        0.1008523 , 0.11083754, 0.12082278, 0.13080801, 0.14079325,\n",
       "        0.15077849, 0.16076373, 0.17074897, 0.18073421, 0.19071944,\n",
       "        0.20070468, 0.21068992, 0.22067516, 0.2306604 , 0.24064564,\n",
       "        0.25063087, 0.26061611, 0.27060135, 0.28058659, 0.29057183,\n",
       "        0.30055707, 0.3105423 , 0.32052754, 0.33051278, 0.34049802,\n",
       "        0.35048326, 0.3604685 , 0.37045373, 0.38043897, 0.39042421,\n",
       "        0.40040945, 0.41039469, 0.42037993, 0.43036516, 0.4403504 ,\n",
       "        0.45033564, 0.46032088, 0.47030612, 0.48029136, 0.49027659,\n",
       "        0.50026183, 0.51024707, 0.52023231, 0.53021755, 0.54020279,\n",
       "        0.55018802, 0.56017326, 0.5701585 , 0.58014374, 0.59012898,\n",
       "        0.60011422, 0.61009945, 0.62008469, 0.63006993, 0.64005517,\n",
       "        0.65004041, 0.66002565, 0.67001088, 0.67999612, 0.68998136,\n",
       "        0.6999666 , 0.70995184, 0.71993708, 0.72992231, 0.73990755,\n",
       "        0.74989279, 0.75987803, 0.76986327, 0.77984851, 0.78983374,\n",
       "        0.79981898, 0.80980422, 0.81978946, 0.8297747 , 0.83975994,\n",
       "        0.84974517, 0.85973041, 0.86971565, 0.87970089, 0.88968613,\n",
       "        0.89967137, 0.9096566 , 0.91964184, 0.92962708, 0.93961232,\n",
       "        0.94959756, 0.9595828 , 0.96956803, 0.97955327, 0.98953851]),\n",
       " <a list of 99 Patch objects>)"
      ]
     },
     "execution_count": 6,
     "metadata": {},
     "output_type": "execute_result"
    },
    {
     "data": {
      "image/png": "[encoded data removed]",
      "text/plain": [
       "<Figure size 432x288 with 1 Axes>"
      ]
     },
     "metadata": {
      "needs_background": "light"
     },
     "output_type": "display_data"
    }
   ],
   "source": [
    "# QUICK ASIDE...\n",
    "# Looking at distribution of means\n",
    "import matplotlib.pyplot as plt\n",
    "min_mean = min(means)\n",
    "max_mean = max(means)\n",
    "plt.hist(means, bins=np.arange(min_mean, max_mean, (max_mean-min_mean)/100))"
   ]
  },
  {
   "cell_type": "code",
   "execution_count": 7,
   "metadata": {},
   "outputs": [
    {
     "data": {
      "text/plain": [
       "(array([  3.,   0.,   0.,   1.,   1.,   1.,   7.,   4.,   2.,   5.,   8.,\n",
       "          8.,   6.,  16.,  14.,   7.,  13.,  21.,  22.,  24.,  21.,  23.,\n",
       "         26.,  21.,  30.,  42.,  40.,  38.,  46.,  54.,  52.,  59.,  61.,\n",
       "         63.,  75.,  74.,  89.,  84., 101.,  93.,  99.,  94.,  98.,  98.,\n",
       "        104., 104., 115., 116., 116.,  87.,  93.,  89., 101., 103.,  86.,\n",
       "         94., 105.,  78.,  78.,  88.,  60.,  54.,  52.,  55.,  65.,  56.,\n",
       "         51.,  42.,  47.,  30.,  34.,  28.,  23.,  25.,  28.,  22.,  19.,\n",
       "         18.,  20.,  11.,  13.,   8.,   6.,   8.,   4.,   3.,   4.,   3.,\n",
       "          1.,   2.,   1.,   2.,   1.,   0.,   0.,   0.,   0.,   2.,   0.]),\n",
       " array([-6.90683989, -6.76128059, -6.61572129, -6.47016198, -6.32460268,\n",
       "        -6.17904338, -6.03348408, -5.88792478, -5.74236548, -5.59680618,\n",
       "        -5.45124688, -5.30568758, -5.16012827, -5.01456897, -4.86900967,\n",
       "        -4.72345037, -4.57789107, -4.43233177, -4.28677247, -4.14121317,\n",
       "        -3.99565387, -3.85009456, -3.70453526, -3.55897596, -3.41341666,\n",
       "        -3.26785736, -3.12229806, -2.97673876, -2.83117946, -2.68562016,\n",
       "        -2.54006085, -2.39450155, -2.24894225, -2.10338295, -1.95782365,\n",
       "        -1.81226435, -1.66670505, -1.52114575, -1.37558645, -1.23002714,\n",
       "        -1.08446784, -0.93890854, -0.79334924, -0.64778994, -0.50223064,\n",
       "        -0.35667134, -0.21111204, -0.06555274,  0.08000657,  0.22556587,\n",
       "         0.37112517,  0.51668447,  0.66224377,  0.80780307,  0.95336237,\n",
       "         1.09892167,  1.24448097,  1.39004028,  1.53559958,  1.68115888,\n",
       "         1.82671818,  1.97227748,  2.11783678,  2.26339608,  2.40895538,\n",
       "         2.55451468,  2.70007398,  2.84563329,  2.99119259,  3.13675189,\n",
       "         3.28231119,  3.42787049,  3.57342979,  3.71898909,  3.86454839,\n",
       "         4.01010769,  4.155667  ,  4.3012263 ,  4.4467856 ,  4.5923449 ,\n",
       "         4.7379042 ,  4.8834635 ,  5.0290228 ,  5.1745821 ,  5.3201414 ,\n",
       "         5.46570071,  5.61126001,  5.75681931,  5.90237861,  6.04793791,\n",
       "         6.19349721,  6.33905651,  6.48461581,  6.63017511,  6.77573442,\n",
       "         6.92129372,  7.06685302,  7.21241232,  7.35797162,  7.50353092]),\n",
       " <a list of 99 Patch objects>)"
      ]
     },
     "execution_count": 7,
     "metadata": {},
     "output_type": "execute_result"
    },
    {
     "data": {
      "image/png": "[encoded data removed]",
      "text/plain": [
       "<Figure size 432x288 with 1 Axes>"
      ]
     },
     "metadata": {
      "needs_background": "light"
     },
     "output_type": "display_data"
    }
   ],
   "source": [
    "# Looking at distribution of systematic components (would prefer to call these the \"means\")\n",
    "sys = X.dot(Beta)\n",
    "min_sys = min(sys)\n",
    "max_sys = max(sys)\n",
    "plt.hist(sys, bins=np.arange(min_sys, max_sys, (max_sys-min_sys)/100))"
   ]
  },
  {
   "cell_type": "code",
   "execution_count": 10,
   "metadata": {},
   "outputs": [
    {
     "name": "stdout",
     "output_type": "stream",
     "text": [
      " 2.5th percentile: -4.400869029256595\n",
      "97.5th percentile: 4.362467653723666\n"
     ]
    }
   ],
   "source": [
    "# Checking percentiles of 'sys'. For signal strength of 5, 2.5th percentile should be > ~-4.472\n",
    "# and 97.5th percentile should be < ~4.472\n",
    "print(' 2.5th percentile: '+str(np.percentile(sys,2.5)))\n",
    "print('97.5th percentile: '+str(np.percentile(sys,97.5)))"
   ]
  },
  {
   "cell_type": "code",
   "execution_count": 94,
   "metadata": {},
   "outputs": [
    {
     "name": "stdout",
     "output_type": "stream",
     "text": [
      "Method Failed, All Subsamples are non linearly separable!\n",
      "[0.0, 0.0, 0.0, 0.0, 0.0, 0.0, 0.0, 0.04, 0.08, 0.08, 0.12, 0.24]\n"
     ]
    }
   ],
   "source": [
    "########## SECTION 3 -  ############################################\n",
    "########## SECTION 2 - Generating Simulated Dataset ############################################\n",
    "# Given a data sample (y_i, X_i), start by choosing a \"fine grid\" of kappas <= 1/2\n",
    "kappaArray = np.arange(0.10,0.70,0.05) # CHANGED TO SMALLEST VALUE TO 0.1\n",
    "\n",
    "# Initializing list to hold proportions of times MLE *** does not **** exist at each kappa\n",
    "kappaProportion = []\n",
    "kappa_list=[] #just checking\n",
    "sample_size_list=[] #just checking\n",
    "\n",
    "# Given a data sample (y_i, X_i), start by choosing a \"fine grid\" of kappas <= 1/2\n",
    "for kappa in kappaArray:\n",
    "    \n",
    "    # Set sample size to n_j =p / k_j (rounding off to nearest integer)\n",
    "    # NOTE: FOR LARGE P THERE MAY NOT BE ENOUGH SAMPLES FOR SMALL KAPPA!\n",
    "    sampleSize = int(round(p/kappa))\n",
    "\n",
    "    # Here, we draw several samples and check to see if the MLE exists. B is the number of\n",
    "    # rounds of sampling\n",
    "    B = 25\n",
    "    \n",
    "    # nMleDNE is the total number of times the MLE *** Does Not Exist *** for each kappa (k_j). This\n",
    "    # is initially set to 0\n",
    "    nMleDNE = 0\n",
    "    \n",
    "    for i in range(B):\n",
    "        subSample = df.sample(n=sampleSize) #should we add replace=True\n",
    "        subSample =subSample.reset_index(drop = True) # Reindexing is necessary because df.sample draws \n",
    "\n",
    "        #change target from 0,1 to -1,1 respectively. \n",
    "        #subSample['y']=np.where(subSample['y'] == 1, 1 , -1)\n",
    "\n",
    "        #according to one source, we need to scale now.\n",
    "        X = subSample.iloc[:,:-1] \n",
    "        y= subSample.iloc[:,-1]\n",
    "        tmp = X.values\n",
    "        tmp = sc.fit_transform(tmp)\n",
    "\n",
    "        n,p = tmp.shape\n",
    "\n",
    "        xx = np.array(y.values.reshape(-1,1) * tmp)\n",
    "        t = y.values\n",
    "\n",
    "        A_ub = np.append(xx, t.reshape(-1,1), 1)\n",
    "        b_ub = np.repeat(-1, A_ub.shape[0]).reshape(-1,1)\n",
    "\n",
    "        c_obj = np.repeat(1, A_ub.shape[1])\n",
    "\n",
    "        res = linprog(c=c_obj, A_ub=A_ub, b_ub=b_ub, options={\"disp\": False, \"maxiter\":10}) #iterations are quite low\n",
    "     \n",
    "        if res.success:\n",
    "            nMleDNE +=1 #There is linear separability between classes\n",
    "        \n",
    "        #print('next')\n",
    "\n",
    "\n",
    "\n",
    "    # Dividing nMleExist by B gives an estimate of the proportion of times the MLE exists.\n",
    "    propMleDNE = nMleDNE/B\n",
    "    kappaProportion.append(propMleDNE)\n",
    "    kappa_list.append(kappa)\n",
    "    sample_size_list.append(sampleSize)\n",
    "\n",
    "# Now, we need (kappa_j-1, kappa_j) such that kappa_j is the smallest value for which the proportion of times\n",
    "# the MLE does not exist\n",
    "uIdx = 0\n",
    "for kappaProp in kappaProportion:\n",
    "    if kappaProp>=0.5:\n",
    "        uIdx = kappaProportion.index(kappaProp) # index of kappa_j\n",
    "        break\n",
    "if uIdx != 0:\n",
    "    uKappa = kappaArray[uIdx] # kappa_j\n",
    "    lKappa = kappaArray[uIdx-1] # kappa_j-1\n",
    "else:\n",
    "    print('Method Failed, All Subsamples are non linearly separable!')\n",
    "\n",
    "print(kappaProportion)"
   ]
  },
  {
   "cell_type": "code",
   "execution_count": 95,
   "metadata": {},
   "outputs": [
    {
     "name": "stdout",
     "output_type": "stream",
     "text": [
      "[0.4    0.4025 0.405  0.4075 0.41   0.4125 0.415  0.4175 0.42   0.4225\n",
      " 0.425  0.4275 0.43   0.4325 0.435  0.4375 0.44   0.4425 0.445  0.4475]\n",
      "Method Failed, All Subsamples are non linearly separable!\n",
      "[0.0, 0.04, 0.0, 0.0, 0.0, 0.0, 0.0, 0.04, 0.0, 0.0, 0.0, 0.0, 0.04, 0.0, 0.0, 0.0, 0.0, 0.0, 0.0, 0.0]\n",
      "[0.415    0.415125 0.41525  0.415375 0.4155   0.415625 0.41575  0.415875\n",
      " 0.416    0.416125 0.41625  0.416375 0.4165   0.416625 0.41675  0.416875\n",
      " 0.417    0.417125 0.41725  0.417375 0.4175  ]\n",
      "Method Failed, All Subsamples are non linearly separable!\n",
      "[0.0, 0.0, 0.0, 0.04, 0.0, 0.0, 0.0, 0.0, 0.04, 0.04, 0.0, 0.04, 0.0, 0.0, 0.0, 0.0, 0.0, 0.0, 0.0, 0.12, 0.0]\n",
      "Appropriate value of Kappa:  0.4153750000000001\n"
     ]
    }
   ],
   "source": [
    "#Getting the index of the first non-zero value in kappa proportion\n",
    "mleIdx = np.argmax(np.array(kappaProportion) > 0)\n",
    "#Looping until the difference between kappas of MLE and non-MLE is less than 0.001\n",
    "while (kappaProportion[mleIdx]-kappaProportion[mleIdx-1] > 0.001 and mleIdx !=0):\n",
    "    #Collecting the kappa value corresponding to first non-zero kapp proportion\n",
    "    kappa1 = kappaArray[mleIdx]\n",
    "    kappa2 = kappaArray[mleIdx-1]\n",
    "    #Generating the interval size\n",
    "    kappaInterval = (kappa1-kappa2)/20\n",
    "    kappaArray = np.arange(kappa2,kappa1,round(kappaInterval,6))\n",
    "    print(kappaArray)\n",
    "    # Initializing list to hold proportions of times MLE *** does not **** exist at each kappa\n",
    "    kappaProportion = []\n",
    "    kappa_list=[] #just checking\n",
    "    sample_size_list=[] #just checking\n",
    "\n",
    "    # Given a data sample (y_i, X_i), start by choosing a \"fine grid\" of kappas <= 1/2\n",
    "    for kappa in kappaArray:\n",
    "\n",
    "        # Set sample size to n_j =p / k_j (rounding off to nearest integer)\n",
    "        # NOTE: FOR LARGE P THERE MAY NOT BE ENOUGH SAMPLES FOR SMALL KAPPA!\n",
    "        sampleSize = int(round(p/kappa))\n",
    "\n",
    "        # Here, we draw several samples and check to see if the MLE exists. B is the number of\n",
    "        # rounds of sampling\n",
    "        B = 25\n",
    "\n",
    "        # nMleDNE is the total number of times the MLE *** Does Not Exist *** for each kappa (k_j). This\n",
    "        # is initially set to 0\n",
    "        nMleDNE = 0\n",
    "\n",
    "        for i in range(B):\n",
    "            subSample = df.sample(n=sampleSize) #should we add replace=True\n",
    "            subSample =subSample.reset_index(drop = True) # Reindexing is necessary because df.sample draws \n",
    "\n",
    "            #change target from 0,1 to -1,1 respectively. \n",
    "            #subSample['y']=np.where(subSample['y'] == 1, 1 , -1)\n",
    "\n",
    "            #according to one source, we need to scale now.\n",
    "            X = subSample.iloc[:,:-1] \n",
    "            y= subSample.iloc[:,-1]\n",
    "            tmp = X.values\n",
    "            tmp = sc.fit_transform(tmp)\n",
    "\n",
    "            n,p = tmp.shape\n",
    "\n",
    "            xx = np.array(y.values.reshape(-1,1) * tmp)\n",
    "            t = y.values\n",
    "\n",
    "            A_ub = np.append(xx, t.reshape(-1,1), 1)\n",
    "            b_ub = np.repeat(-1, A_ub.shape[0]).reshape(-1,1)\n",
    "\n",
    "            c_obj = np.repeat(1, A_ub.shape[1])\n",
    "\n",
    "            res = linprog(c=c_obj, A_ub=A_ub, b_ub=b_ub, options={\"disp\": False, \"maxiter\":10}) #iterations are quite low\n",
    "\n",
    "            if res.success:\n",
    "                nMleDNE +=1 #There is linear separability between classes\n",
    "\n",
    "            #print('next')\n",
    "\n",
    "\n",
    "\n",
    "        # Dividing nMleExist by B gives an estimate of the proportion of times the MLE exists.\n",
    "        propMleDNE = nMleDNE/B\n",
    "        kappaProportion.append(propMleDNE)\n",
    "        kappa_list.append(kappa)\n",
    "        sample_size_list.append(sampleSize)\n",
    "\n",
    "    # Now, we need (kappa_j-1, kappa_j) such that kappa_j is the smallest value for which the proportion of times\n",
    "    # the MLE does not exist\n",
    "    uIdx = 0\n",
    "    for kappaProp in kappaProportion:\n",
    "        if kappaProp>=0.5:\n",
    "            uIdx = kappaProportion.index(kappaProp) # index of kappa_j\n",
    "            break\n",
    "    if uIdx != 0:\n",
    "        uKappa = kappaArray[uIdx] # kappa_j\n",
    "        lKappa = kappaArray[uIdx-1] # kappa_j-1\n",
    "    else:\n",
    "        print('Method Failed, All Subsamples are non linearly separable!')\n",
    "\n",
    "    print(kappaProportion)\n",
    "mleIdx = np.argmax(np.array(kappaProportion) > 0)\n",
    "print(\"Appropriate value of Kappa: \",kappaArray[mleIdx])\n"
   ]
  }
 ],
 "metadata": {
  "kernelspec": {
   "display_name": "Python 3",
   "language": "python",
   "name": "python3"
  },
  "language_info": {
   "codemirror_mode": {
    "name": "ipython",
    "version": 3
   },
   "file_extension": ".py",
   "mimetype": "text/x-python",
   "name": "python",
   "nbconvert_exporter": "python",
   "pygments_lexer": "ipython3",
   "version": "3.7.3"
  }
 },
 "nbformat": 4,
 "nbformat_minor": 2
}
