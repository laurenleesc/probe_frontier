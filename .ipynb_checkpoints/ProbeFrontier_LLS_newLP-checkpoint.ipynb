{
 "cells": [
  {
   "cell_type": "code",
   "execution_count": 1,
   "metadata": {},
   "outputs": [],
   "source": [
    "########## SECTION 1 - Importing Required Packages and Functions ###############################\n",
    "import pandas as pd\n",
    "import numpy as np \n",
    "from simulate import generateData\n",
    "from sklearn.preprocessing import StandardScaler\n",
    "sc = StandardScaler()\n",
    "from scipy.optimize import linprog"
   ]
  },
  {
   "cell_type": "code",
   "execution_count": 2,
   "metadata": {},
   "outputs": [],
   "source": [
    "########## SECTION 2 - Generating Simulated Dataset ############################################\n",
    "\n",
    "# number of observations\n",
    "n=4000\n",
    "\n",
    "# number of (Gaussian) covariates\n",
    "p=20\n",
    "\n",
    "# signal strength\n",
    "signal_strength = 5\n",
    "\n",
    "# Parameters for Distribution to draw Betas from. Betas ~ N(mu, stdev^2)\n",
    "mu = 0\n",
    "stdev = 1.0\n",
    "\n",
    "# Generate the data\n",
    "# - X is an (n,p+1) dimensional array with the n rows corresponding to observations and the p+1 columns\n",
    "#   corresponding to the covariates + a column of 1's (for the intercept term)\n",
    "# - Beta is the (p+1,) dimensional array of 'True' regression coefficients\n",
    "# - y is the (n,) dimensional array of response values for the observations\n",
    "# - means is the (n,) dimensional array of predicted values (probabilities in case of logistic)\n",
    "# *THOUGHT: Perhaps we could use another term instead of means to avoid confusion with the systematic component?\n",
    "# * perhaps y_hat, preds, etc?\n",
    "X, Beta, y, means = generateData(dist = 'bernoulli', n = n, p = p, mu = mu, stdev = stdev, signal_strength = signal_strength) "
   ]
  },
  {
   "cell_type": "code",
   "execution_count": 3,
   "metadata": {},
   "outputs": [
    {
     "data": {
      "text/plain": [
       "5.000000000000001"
      ]
     },
     "execution_count": 3,
     "metadata": {},
     "output_type": "execute_result"
    }
   ],
   "source": [
    "# Sanity Check 1: Should be equal to signal strength\n",
    "Beta.dot(Beta)/n"
   ]
  },
  {
   "cell_type": "code",
   "execution_count": 4,
   "metadata": {},
   "outputs": [],
   "source": [
    "# Sanity check 2 - Ignore\n",
    "#from simulate import generateRandomBeta\n",
    "#beta = generateRandomBeta(q=p, mu=mu, stdev=stdev)\n",
    "#bb = beta * np.sqrt( (n * signal_strength) / beta.T.dot(beta).values[0,0] )\n",
    "#bb.values.T.dot(bb.values)/n # check"
   ]
  },
  {
   "cell_type": "code",
   "execution_count": 5,
   "metadata": {},
   "outputs": [],
   "source": [
    "# Combining the predictor and response data into a single pandas dataframe df\n",
    "df = pd.DataFrame(X)\n",
    "y = np.array(y)\n",
    "y = np.where(y>0,1,-1)# Changed label 0 to -1, For convenience, we choose the label as {-1,1} instead of {0,1}\n",
    "df['y'] = pd.Series(y)"
   ]
  },
  {
   "cell_type": "code",
   "execution_count": 6,
   "metadata": {},
   "outputs": [
    {
     "data": {
      "text/plain": [
       "(array([ 84., 114.,  85.,  72.,  69.,  62.,  58.,  45.,  52.,  58.,  44.,\n",
       "         42.,  43.,  43.,  44.,  48.,  46.,  33.,  34.,  34.,  37.,  30.,\n",
       "         34.,  29.,  30.,  34.,  29.,  40.,  34.,  28.,  37.,  21.,  31.,\n",
       "         17.,  23.,  38.,  40.,  25.,  25.,  26.,  29.,  23.,  24.,  23.,\n",
       "         28.,  38.,  26.,  41.,  25.,  25.,  25.,  22.,  16.,  36.,  33.,\n",
       "         31.,  36.,  22.,  32.,  31.,  21.,  21.,  24.,  27.,  31.,  28.,\n",
       "         26.,  22.,  38.,  29.,  34.,  38.,  32.,  39.,  40.,  24.,  34.,\n",
       "         34.,  47.,  45.,  46.,  29.,  40.,  37.,  28.,  45.,  44.,  57.,\n",
       "         45.,  44.,  44.,  41.,  47.,  65.,  65.,  63.,  70.,  99.,  81.]),\n",
       " array([2.84216295e-04, 1.02746139e-02, 2.02650114e-02, 3.02554090e-02,\n",
       "        4.02458065e-02, 5.02362041e-02, 6.02266017e-02, 7.02169992e-02,\n",
       "        8.02073968e-02, 9.01977943e-02, 1.00188192e-01, 1.10178589e-01,\n",
       "        1.20168987e-01, 1.30159385e-01, 1.40149782e-01, 1.50140180e-01,\n",
       "        1.60130577e-01, 1.70120975e-01, 1.80111372e-01, 1.90101770e-01,\n",
       "        2.00092167e-01, 2.10082565e-01, 2.20072963e-01, 2.30063360e-01,\n",
       "        2.40053758e-01, 2.50044155e-01, 2.60034553e-01, 2.70024950e-01,\n",
       "        2.80015348e-01, 2.90005746e-01, 2.99996143e-01, 3.09986541e-01,\n",
       "        3.19976938e-01, 3.29967336e-01, 3.39957733e-01, 3.49948131e-01,\n",
       "        3.59938528e-01, 3.69928926e-01, 3.79919324e-01, 3.89909721e-01,\n",
       "        3.99900119e-01, 4.09890516e-01, 4.19880914e-01, 4.29871311e-01,\n",
       "        4.39861709e-01, 4.49852106e-01, 4.59842504e-01, 4.69832902e-01,\n",
       "        4.79823299e-01, 4.89813697e-01, 4.99804094e-01, 5.09794492e-01,\n",
       "        5.19784889e-01, 5.29775287e-01, 5.39765685e-01, 5.49756082e-01,\n",
       "        5.59746480e-01, 5.69736877e-01, 5.79727275e-01, 5.89717672e-01,\n",
       "        5.99708070e-01, 6.09698467e-01, 6.19688865e-01, 6.29679263e-01,\n",
       "        6.39669660e-01, 6.49660058e-01, 6.59650455e-01, 6.69640853e-01,\n",
       "        6.79631250e-01, 6.89621648e-01, 6.99612045e-01, 7.09602443e-01,\n",
       "        7.19592841e-01, 7.29583238e-01, 7.39573636e-01, 7.49564033e-01,\n",
       "        7.59554431e-01, 7.69544828e-01, 7.79535226e-01, 7.89525623e-01,\n",
       "        7.99516021e-01, 8.09506419e-01, 8.19496816e-01, 8.29487214e-01,\n",
       "        8.39477611e-01, 8.49468009e-01, 8.59458406e-01, 8.69448804e-01,\n",
       "        8.79439202e-01, 8.89429599e-01, 8.99419997e-01, 9.09410394e-01,\n",
       "        9.19400792e-01, 9.29391189e-01, 9.39381587e-01, 9.49371984e-01,\n",
       "        9.59362382e-01, 9.69352780e-01, 9.79343177e-01, 9.89333575e-01]),\n",
       " <a list of 99 Patch objects>)"
      ]
     },
     "execution_count": 6,
     "metadata": {},
     "output_type": "execute_result"
    },
    {
     "data": {
      "image/png": "[encoded data removed]",
      "text/plain": [
       "<Figure size 432x288 with 1 Axes>"
      ]
     },
     "metadata": {
      "needs_background": "light"
     },
     "output_type": "display_data"
    }
   ],
   "source": [
    "# QUICK ASIDE...\n",
    "# Looking at distribution of means\n",
    "import matplotlib.pyplot as plt\n",
    "min_mean = min(means)\n",
    "max_mean = max(means)\n",
    "plt.hist(means, bins=np.arange(min_mean, max_mean, (max_mean-min_mean)/100))"
   ]
  },
  {
   "cell_type": "code",
   "execution_count": 7,
   "metadata": {},
   "outputs": [
    {
     "data": {
      "text/plain": [
       "(array([  1.,   0.,   0.,   0.,   0.,   0.,   0.,   3.,   3.,   2.,   1.,\n",
       "          0.,   6.,   2.,   4.,   1.,   3.,  12.,   7.,   6.,  11.,  15.,\n",
       "          6.,  16.,  25.,  26.,  28.,  30.,  20.,  41.,  36.,  38.,  42.,\n",
       "         46.,  55.,  52.,  49.,  70.,  68.,  65.,  74.,  93.,  85.,  84.,\n",
       "         85.,  91., 101.,  97.,  92., 110.,  97., 109., 113.,  97., 117.,\n",
       "         95.,  97.,  96., 108., 107.,  89., 114.,  88.,  69.,  87.,  84.,\n",
       "         66.,  61.,  43.,  58.,  62.,  47.,  45.,  39.,  33.,  41.,  30.,\n",
       "         36.,  24.,  17.,  18.,  16.,  17.,  17.,   8.,  14.,   5.,   4.,\n",
       "          3.,   3.,   7.,   4.,   2.,   3.,   0.,   1.,   2.,   1.,   3.]),\n",
       " array([-8.16549075, -8.01084984, -7.85620893, -7.70156803, -7.54692712,\n",
       "        -7.39228621, -7.2376453 , -7.08300439, -6.92836348, -6.77372257,\n",
       "        -6.61908166, -6.46444075, -6.30979984, -6.15515894, -6.00051803,\n",
       "        -5.84587712, -5.69123621, -5.5365953 , -5.38195439, -5.22731348,\n",
       "        -5.07267257, -4.91803166, -4.76339075, -4.60874985, -4.45410894,\n",
       "        -4.29946803, -4.14482712, -3.99018621, -3.8355453 , -3.68090439,\n",
       "        -3.52626348, -3.37162257, -3.21698166, -3.06234076, -2.90769985,\n",
       "        -2.75305894, -2.59841803, -2.44377712, -2.28913621, -2.1344953 ,\n",
       "        -1.97985439, -1.82521348, -1.67057257, -1.51593166, -1.36129076,\n",
       "        -1.20664985, -1.05200894, -0.89736803, -0.74272712, -0.58808621,\n",
       "        -0.4334453 , -0.27880439, -0.12416348,  0.03047743,  0.18511833,\n",
       "         0.33975924,  0.49440015,  0.64904106,  0.80368197,  0.95832288,\n",
       "         1.11296379,  1.2676047 ,  1.42224561,  1.57688652,  1.73152742,\n",
       "         1.88616833,  2.04080924,  2.19545015,  2.35009106,  2.50473197,\n",
       "         2.65937288,  2.81401379,  2.9686547 ,  3.12329561,  3.27793651,\n",
       "         3.43257742,  3.58721833,  3.74185924,  3.89650015,  4.05114106,\n",
       "         4.20578197,  4.36042288,  4.51506379,  4.6697047 ,  4.8243456 ,\n",
       "         4.97898651,  5.13362742,  5.28826833,  5.44290924,  5.59755015,\n",
       "         5.75219106,  5.90683197,  6.06147288,  6.21611379,  6.37075469,\n",
       "         6.5253956 ,  6.68003651,  6.83467742,  6.98931833,  7.14395924]),\n",
       " <a list of 99 Patch objects>)"
      ]
     },
     "execution_count": 7,
     "metadata": {},
     "output_type": "execute_result"
    },
    {
     "data": {
      "image/png": "[encoded data removed]",
      "text/plain": [
       "<Figure size 432x288 with 1 Axes>"
      ]
     },
     "metadata": {
      "needs_background": "light"
     },
     "output_type": "display_data"
    }
   ],
   "source": [
    "# Looking at distribution of systematic components (would prefer to call these the \"means\")\n",
    "sys = X.dot(Beta)\n",
    "min_sys = min(sys)\n",
    "max_sys = max(sys)\n",
    "plt.hist(sys, bins=np.arange(min_sys, max_sys, (max_sys-min_sys)/100))"
   ]
  },
  {
   "cell_type": "code",
   "execution_count": 8,
   "metadata": {},
   "outputs": [
    {
     "name": "stdout",
     "output_type": "stream",
     "text": [
      " 2.5th percentile: -4.44236836602017\n",
      "97.5th percentile: 4.4332853004648465\n"
     ]
    }
   ],
   "source": [
    "# Checking percentiles of 'sys'. For signal strength of 5, 2.5th percentile should be > ~-4.472\n",
    "# and 97.5th percentile should be < ~4.472\n",
    "print(' 2.5th percentile: '+str(np.percentile(sys,2.5)))\n",
    "print('97.5th percentile: '+str(np.percentile(sys,97.5)))"
   ]
  },
  {
   "cell_type": "code",
   "execution_count": 15,
   "metadata": {},
   "outputs": [
    {
     "name": "stdout",
     "output_type": "stream",
     "text": [
      "Method Failed, All Subsamples are non linearly separable!\n",
      "[0.0, 0.0, 0.0, 0.0, 0.0, 0.0, 0.0, 0.0, 0.0, 0.4, 0.2, 0.4]\n"
     ]
    }
   ],
   "source": [
    "########## SECTION 3 -  ############################################\n",
    "########## SECTION 2 - Generating Simulated Dataset ############################################\n",
    "# Given a data sample (y_i, X_i), start by choosing a \"fine grid\" of kappas <= 1/2\n",
    "kappaArray = np.arange(0.10,0.70,0.05) # CHANGED TO SMALLEST VALUE TO 0.1\n",
    "\n",
    "# Initializing list to hold proportions of times MLE *** does not **** exist at each kappa\n",
    "kappaProportion = []\n",
    "kappa_list=[] #just checking\n",
    "sample_size_list=[] #just checking\n",
    "\n",
    "# Given a data sample (y_i, X_i), start by choosing a \"fine grid\" of kappas <= 1/2\n",
    "for kappa in kappaArray:\n",
    "    \n",
    "    # Set sample size to n_j =p / k_j (rounding off to nearest integer)\n",
    "    # NOTE: FOR LARGE P THERE MAY NOT BE ENOUGH SAMPLES FOR SMALL KAPPA!\n",
    "    sampleSize = int(round(p/kappa))\n",
    "\n",
    "    # Here, we draw several samples and check to see if the MLE exists. B is the number of\n",
    "    # rounds of sampling\n",
    "    B = 5\n",
    "    \n",
    "    # nMleDNE is the total number of times the MLE *** Does Not Exist *** for each kappa (k_j). This\n",
    "    # is initially set to 0\n",
    "    nMleDNE = 0\n",
    "    \n",
    "    for i in range(B):\n",
    "        subSample = df.sample(n=sampleSize) #should we add replace=True\n",
    "        subSample =subSample.reset_index(drop = True) # Reindexing is necessary because df.sample draws \n",
    "\n",
    "        #change target from 0,1 to -1,1 respectively. \n",
    "        #subSample['y']=np.where(subSample['y'] == 1, 1 , -1)\n",
    "\n",
    "        #according to one source, we need to scale now.\n",
    "        X = subSample.iloc[:,:-1] \n",
    "        y= subSample.iloc[:,-1]\n",
    "        tmp = X.values\n",
    "        tmp = sc.fit_transform(tmp)\n",
    "\n",
    "        n,p = tmp.shape\n",
    "\n",
    "        xx = np.array(y.values.reshape(-1,1) * tmp)\n",
    "        t = y.values\n",
    "\n",
    "        A_ub = np.append(xx, t.reshape(-1,1), 1)\n",
    "        b_ub = np.repeat(-1, A_ub.shape[0]).reshape(-1,1)\n",
    "\n",
    "        c_obj = np.repeat(1, A_ub.shape[1])\n",
    "\n",
    "        res = linprog(c=c_obj, A_ub=A_ub, b_ub=b_ub, options={\"disp\": False, \"maxiter\":10}) #iterations are quite low\n",
    "     \n",
    "        if res.success:\n",
    "            nMleDNE +=1 #There is linear separability between classes\n",
    "        \n",
    "        #print('next')\n",
    "\n",
    "\n",
    "\n",
    "    # Dividing nMleExist by B gives an estimate of the proportion of times the MLE exists.\n",
    "    propMleDNE = nMleDNE/B\n",
    "    kappaProportion.append(propMleDNE)\n",
    "    kappa_list.append(kappa)\n",
    "    sample_size_list.append(sampleSize)\n",
    "\n",
    "# Now, we need (kappa_j-1, kappa_j) such that kappa_j is the smallest value for which the proportion of times\n",
    "# the MLE does not exist\n",
    "uIdx = 0\n",
    "for kappaProp in kappaProportion:\n",
    "    if kappaProp>=0.5:\n",
    "        uIdx = kappaProportion.index(kappaProp) # index of kappa_j\n",
    "        break\n",
    "if uIdx != 0:\n",
    "    uKappa = kappaArray[uIdx] # kappa_j\n",
    "    lKappa = kappaArray[uIdx-1] # kappa_j-1\n",
    "else:\n",
    "    print('Method Failed, All Subsamples are non linearly separable!')\n",
    "\n",
    "print(kappaProportion)"
   ]
  },
  {
   "cell_type": "code",
   "execution_count": 14,
   "metadata": {},
   "outputs": [],
   "source": [
    "#I'm not sure why it's still printing non linearly separable"
   ]
  },
  {
   "cell_type": "code",
   "execution_count": null,
   "metadata": {},
   "outputs": [],
   "source": []
  }
 ],
 "metadata": {
  "kernelspec": {
   "display_name": "Python 3",
   "language": "python",
   "name": "python3"
  },
  "language_info": {
   "codemirror_mode": {
    "name": "ipython",
    "version": 3
   },
   "file_extension": ".py",
   "mimetype": "text/x-python",
   "name": "python",
   "nbconvert_exporter": "python",
   "pygments_lexer": "ipython3",
   "version": "3.7.6"
  }
 },
 "nbformat": 4,
 "nbformat_minor": 2
}
