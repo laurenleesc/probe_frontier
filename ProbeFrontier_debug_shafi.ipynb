{
 "cells": [
  {
   "cell_type": "code",
   "execution_count": 1,
   "metadata": {},
   "outputs": [],
   "source": [
    "########## SECTION 1 - Importing Required Packages and Functions ###############################\n",
    "import pandas as pd\n",
    "import numpy as np \n",
    "import time\n",
    "from simulate import generateData\n",
    "from linear_programs import checkMleExistence"
   ]
  },
  {
   "cell_type": "code",
   "execution_count": 2,
   "metadata": {},
   "outputs": [],
   "source": [
    "########## SECTION 2 - Generating Simulated Dataset ############################################\n",
    "\n",
    "# number of observations\n",
    "n=200\n",
    "\n",
    "# number of (Gaussian) covariates\n",
    "p=40\n",
    "\n",
    "# signal strength\n",
    "signal_strength = 5\n",
    "\n",
    "# Parameters for Distribution to draw Betas from. Betas ~ N(mu, stdev^2)\n",
    "mu = 0\n",
    "stdev = 1.0\n",
    "\n",
    "# Generate the data\n",
    "# - X is an (n,p+1) dimensional array with the n rows corresponding to observations and the p+1 columns\n",
    "#   corresponding to the covariates + a column of 1's (for the intercept term)\n",
    "# - Beta is the (p+1,) dimensional array of 'True' regression coefficients\n",
    "# - y is the (n,) dimensional array of response values for the observations\n",
    "# - means is the (n,) dimensional array of predicted values (probabilities in case of logistic)\n",
    "# *THOUGHT: Perhaps we could use another term instead of means to avoid confusion with the systematic component?\n",
    "# * perhaps y_hat, preds, etc?\n",
    "X, Beta, y, means = generateData(dist = 'bernoulli', n = n, p = p, mu = mu, stdev = stdev, signal_strength = signal_strength) "
   ]
  },
  {
   "cell_type": "code",
   "execution_count": 3,
   "metadata": {},
   "outputs": [
    {
     "data": {
      "text/plain": [
       "5.0"
      ]
     },
     "execution_count": 3,
     "metadata": {},
     "output_type": "execute_result"
    }
   ],
   "source": [
    "# Sanity Check 1: Should be equal to signal strength\n",
    "Beta.dot(Beta)/n"
   ]
  },
  {
   "cell_type": "code",
   "execution_count": 4,
   "metadata": {},
   "outputs": [],
   "source": [
    "# Sanity check 2 - Ignore\n",
    "#from simulate import generateRandomBeta\n",
    "#beta = generateRandomBeta(q=p, mu=mu, stdev=stdev)\n",
    "#bb = beta * np.sqrt( (n * signal_strength) / beta.T.dot(beta).values[0,0] )\n",
    "#bb.values.T.dot(bb.values)/n # check"
   ]
  },
  {
   "cell_type": "code",
   "execution_count": 5,
   "metadata": {},
   "outputs": [],
   "source": [
    "# Combining the predictor and response data into a single pandas dataframe df\n",
    "df = pd.DataFrame(X)\n",
    "y = np.array(y)\n",
    "y = np.where(y>0,1,-1)# Changed label 0 to -1, For convenience, we choose the label as {-1,1} instead of {0,1}\n",
    "df['y'] = pd.Series(y)"
   ]
  },
  {
   "cell_type": "code",
   "execution_count": 6,
   "metadata": {},
   "outputs": [
    {
     "data": {
      "text/plain": [
       "(array([7., 6., 1., 6., 1., 3., 5., 2., 2., 3., 1., 3., 1., 2., 1., 0., 3.,\n",
       "        2., 3., 2., 2., 2., 2., 1., 2., 1., 1., 1., 2., 0., 1., 0., 2., 2.,\n",
       "        1., 1., 1., 0., 0., 0., 0., 3., 1., 1., 0., 0., 1., 1., 2., 2., 0.,\n",
       "        1., 1., 2., 1., 0., 0., 0., 2., 2., 0., 5., 2., 0., 2., 3., 1., 1.,\n",
       "        3., 2., 3., 2., 4., 1., 5., 2., 2., 1., 2., 1., 7., 1., 2., 1., 6.,\n",
       "        2., 1., 1., 3., 3., 2., 1., 2., 5., 7., 1., 4., 3., 3.]),\n",
       " array([0.00322005, 0.0131766 , 0.02313315, 0.03308971, 0.04304626,\n",
       "        0.05300282, 0.06295937, 0.07291592, 0.08287248, 0.09282903,\n",
       "        0.10278558, 0.11274214, 0.12269869, 0.13265524, 0.1426118 ,\n",
       "        0.15256835, 0.16252491, 0.17248146, 0.18243801, 0.19239457,\n",
       "        0.20235112, 0.21230767, 0.22226423, 0.23222078, 0.24217734,\n",
       "        0.25213389, 0.26209044, 0.272047  , 0.28200355, 0.2919601 ,\n",
       "        0.30191666, 0.31187321, 0.32182976, 0.33178632, 0.34174287,\n",
       "        0.35169943, 0.36165598, 0.37161253, 0.38156909, 0.39152564,\n",
       "        0.40148219, 0.41143875, 0.4213953 , 0.43135186, 0.44130841,\n",
       "        0.45126496, 0.46122152, 0.47117807, 0.48113462, 0.49109118,\n",
       "        0.50104773, 0.51100428, 0.52096084, 0.53091739, 0.54087395,\n",
       "        0.5508305 , 0.56078705, 0.57074361, 0.58070016, 0.59065671,\n",
       "        0.60061327, 0.61056982, 0.62052638, 0.63048293, 0.64043948,\n",
       "        0.65039604, 0.66035259, 0.67030914, 0.6802657 , 0.69022225,\n",
       "        0.70017881, 0.71013536, 0.72009191, 0.73004847, 0.74000502,\n",
       "        0.74996157, 0.75991813, 0.76987468, 0.77983123, 0.78978779,\n",
       "        0.79974434, 0.8097009 , 0.81965745, 0.829614  , 0.83957056,\n",
       "        0.84952711, 0.85948366, 0.86944022, 0.87939677, 0.88935333,\n",
       "        0.89930988, 0.90926643, 0.91922299, 0.92917954, 0.93913609,\n",
       "        0.94909265, 0.9590492 , 0.96900575, 0.97896231, 0.98891886]),\n",
       " <a list of 99 Patch objects>)"
      ]
     },
     "execution_count": 6,
     "metadata": {},
     "output_type": "execute_result"
    },
    {
     "data": {
      "image/png": "[encoded data removed]",
      "text/plain": [
       "<Figure size 432x288 with 1 Axes>"
      ]
     },
     "metadata": {
      "needs_background": "light"
     },
     "output_type": "display_data"
    }
   ],
   "source": [
    "# QUICK ASIDE...\n",
    "# Looking at distribution of means\n",
    "import matplotlib.pyplot as plt\n",
    "min_mean = min(means)\n",
    "max_mean = max(means)\n",
    "plt.hist(means, bins=np.arange(min_mean, max_mean, (max_mean-min_mean)/100))"
   ]
  },
  {
   "cell_type": "code",
   "execution_count": 7,
   "metadata": {},
   "outputs": [
    {
     "data": {
      "text/plain": [
       "(array([1., 1., 1., 0., 0., 0., 0., 0., 1., 1., 1., 1., 1., 2., 2., 1., 1.,\n",
       "        0., 1., 3., 2., 1., 1., 2., 3., 3., 1., 3., 3., 3., 1., 2., 3., 3.,\n",
       "        6., 4., 3., 3., 3., 3., 3., 2., 1., 4., 1., 5., 3., 2., 3., 8., 3.,\n",
       "        5., 7., 7., 7., 3., 3., 9., 2., 7., 2., 2., 4., 3., 0., 3., 2., 6.,\n",
       "        4., 0., 1., 3., 1., 1., 2., 0., 1., 0., 0., 1., 0., 1., 0., 1., 0.,\n",
       "        1., 0., 0., 0., 0., 1., 0., 0., 0., 1., 0., 2., 0., 0.]),\n",
       " array([-5.73513422, -5.60989071, -5.4846472 , -5.35940369, -5.23416018,\n",
       "        -5.10891667, -4.98367316, -4.85842965, -4.73318614, -4.60794263,\n",
       "        -4.48269912, -4.35745561, -4.2322121 , -4.10696859, -3.98172508,\n",
       "        -3.85648157, -3.73123806, -3.60599455, -3.48075104, -3.35550753,\n",
       "        -3.23026402, -3.10502051, -2.979777  , -2.85453349, -2.72928998,\n",
       "        -2.60404647, -2.47880296, -2.35355945, -2.22831595, -2.10307244,\n",
       "        -1.97782893, -1.85258542, -1.72734191, -1.6020984 , -1.47685489,\n",
       "        -1.35161138, -1.22636787, -1.10112436, -0.97588085, -0.85063734,\n",
       "        -0.72539383, -0.60015032, -0.47490681, -0.3496633 , -0.22441979,\n",
       "        -0.09917628,  0.02606723,  0.15131074,  0.27655425,  0.40179776,\n",
       "         0.52704127,  0.65228478,  0.77752829,  0.9027718 ,  1.02801531,\n",
       "         1.15325882,  1.27850232,  1.40374583,  1.52898934,  1.65423285,\n",
       "         1.77947636,  1.90471987,  2.02996338,  2.15520689,  2.2804504 ,\n",
       "         2.40569391,  2.53093742,  2.65618093,  2.78142444,  2.90666795,\n",
       "         3.03191146,  3.15715497,  3.28239848,  3.40764199,  3.5328855 ,\n",
       "         3.65812901,  3.78337252,  3.90861603,  4.03385954,  4.15910305,\n",
       "         4.28434656,  4.40959007,  4.53483358,  4.66007709,  4.78532059,\n",
       "         4.9105641 ,  5.03580761,  5.16105112,  5.28629463,  5.41153814,\n",
       "         5.53678165,  5.66202516,  5.78726867,  5.91251218,  6.03775569,\n",
       "         6.1629992 ,  6.28824271,  6.41348622,  6.53872973,  6.66397324]),\n",
       " <a list of 99 Patch objects>)"
      ]
     },
     "execution_count": 7,
     "metadata": {},
     "output_type": "execute_result"
    },
    {
     "data": {
      "image/png": "[encoded data removed]",
      "text/plain": [
       "<Figure size 432x288 with 1 Axes>"
      ]
     },
     "metadata": {
      "needs_background": "light"
     },
     "output_type": "display_data"
    }
   ],
   "source": [
    "# Looking at distribution of systematic components (would prefer to call these the \"means\")\n",
    "sys = X.dot(Beta)\n",
    "min_sys = min(sys)\n",
    "max_sys = max(sys)\n",
    "plt.hist(sys, bins=np.arange(min_sys, max_sys, (max_sys-min_sys)/100))"
   ]
  },
  {
   "cell_type": "code",
   "execution_count": 8,
   "metadata": {},
   "outputs": [
    {
     "name": "stdout",
     "output_type": "stream",
     "text": [
      " 2.5th percentile: -4.404488580217356\n",
      "97.5th percentile: 4.963125478284858\n"
     ]
    }
   ],
   "source": [
    "# Checking percentiles of 'sys'. For signal strength of 5, 2.5th percentile should be > ~-4.472\n",
    "# and 97.5th percentile should be < ~4.472\n",
    "print(' 2.5th percentile: '+str(np.percentile(sys,2.5)))\n",
    "print('97.5th percentile: '+str(np.percentile(sys,97.5)))"
   ]
  },
  {
   "cell_type": "code",
   "execution_count": 9,
   "metadata": {},
   "outputs": [
    {
     "name": "stdout",
     "output_type": "stream",
     "text": [
      "Using license file /home/nahid/gurobi.lic\n",
      "Academic license - for non-commercial use only\n",
      "Lower Bound of Kappa: 0.34000000000000014 Upper Bound of Kappa: 0.35000000000000014 kappa proportions: [0.0, 0.0, 0.0, 0.0, 0.0, 0.0, 0.0, 0.12, 0.02, 0.18, 0.12, 0.48, 0.4, 0.3, 0.44, 0.68, 0.68, 0.62, 0.76, 0.86, 0.8, 0.92, 0.98, 0.94, 0.96, 1.0, 0.96, 0.96, 1.0, 0.96, 1.0, 1.0, 1.0, 1.0, 1.0, 1.0, 1.0, 1.0, 1.0, 1.0, 1.0]\n",
      "Time for the Code to run: 111\n"
     ]
    }
   ],
   "source": [
    "########## SECTION 3 -  ############################################\n",
    "########## SECTION 2 - Generating Simulated Dataset ############################################\n",
    "\n",
    "# Given a data sample (y_i, X_i), start by choosing a \"fine grid\" of kappas <= 1/2\n",
    "kappaArray = np.arange(0.2,0.61,0.01) # CHANGED TO SMALLEST VALUE TO 0.1\n",
    "\n",
    "# Initializing list to hold proportions of times MLE *** does not **** exist at each kappa\n",
    "kappaProportion = []\n",
    "\n",
    "d1 = time.time()\n",
    "\n",
    "# For each k_j in the grid, we do the following:\n",
    "for kappa in kappaArray:\n",
    "    \n",
    "    # Set sample size to n_j =p / k_j (rounding off to nearest integer)\n",
    "    # NOTE: FOR LARGE P THERE MAY NOT BE ENOUGH SAMPLES FOR SMALL KAPPA!\n",
    "    sampleSize = int(round(p/kappa))\n",
    "\n",
    "    # Here, we draw several samples and check to see if the MLE exists. B is the number of\n",
    "    # rounds of sampling\n",
    "    B = 50\n",
    "    \n",
    "    # nMleDNE is the total number of times the MLE *** Does Not Exist *** for each kappa (k_j). This\n",
    "    # is initially set to 0\n",
    "    nMleDNE = 0\n",
    "    for i in range(B):\n",
    "        subSample = df.sample(n=sampleSize) # draw the sample\n",
    "        subSample =subSample.reset_index(drop = True) # Reindexing is necessary because df.sample draws \n",
    "                                                        # the originial index from the dataframe\n",
    "        \n",
    "        mleStatus = checkMleExistence(subSample) # check if MLE exists\n",
    "        # Note that checkMleExistence returns a coded value. The list of coded values can be\n",
    "        # found here: https://www.gurobi.com/documentation/9.0/refman/optimization_status_codes.html\n",
    "        # We are most interested in the number of times (out of B times) MLE does not exist.\n",
    "        # If MLE does not exist, the checkMleExistence function will return status code 2 indicating that the \n",
    "        # LP has an optimal solution. \n",
    "        \n",
    "        if mleStatus == 2:\n",
    "            nMleDNE +=1\n",
    "            \n",
    "    # Dividing nMleExist by B gives an estimate of the proportion of times the MLE exists.\n",
    "    propMleDNE = nMleDNE/B\n",
    "    kappaProportion.append(propMleDNE)\n",
    "    \n",
    "\n",
    "# Now, we need (kappa_j-1, kappa_j) such that kappa_j is the smallest value for which the proportion of times\n",
    "# the MLE does not exist\n",
    "uIdx = 0\n",
    "for kappaProp in kappaProportion:\n",
    "    if kappaProp>=0.5:\n",
    "        uIdx = kappaProportion.index(kappaProp) # index of kappa_j\n",
    "        break\n",
    "if uIdx != 0:\n",
    "    uKappa = kappaArray[uIdx] # kappa_j\n",
    "    lKappa = kappaArray[uIdx-1] # kappa_j-1\n",
    "else:\n",
    "    print('Method Failed, All Subsamples are separable!')\n",
    "\n",
    "d2 = time.time()\n",
    "delta = round(d2 - d1)\n",
    "print('Lower Bound of Kappa:',lKappa,'Upper Bound of Kappa:',uKappa, 'kappa proportions:', kappaProportion)\n",
    "print('Time for the Code to run:',delta)"
   ]
  },
  {
   "cell_type": "code",
   "execution_count": null,
   "metadata": {},
   "outputs": [],
   "source": []
  }
 ],
 "metadata": {
  "kernelspec": {
   "display_name": "Python [conda env:gurobi]",
   "language": "python",
   "name": "conda-env-gurobi-py"
  },
  "language_info": {
   "codemirror_mode": {
    "name": "ipython",
    "version": 3
   },
   "file_extension": ".py",
   "mimetype": "text/x-python",
   "name": "python",
   "nbconvert_exporter": "python",
   "pygments_lexer": "ipython3",
   "version": "3.7.5"
  }
 },
 "nbformat": 4,
 "nbformat_minor": 2
}
