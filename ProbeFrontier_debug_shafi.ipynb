{
 "cells": [
  {
   "cell_type": "code",
   "execution_count": 1,
   "metadata": {},
   "outputs": [],
   "source": [
    "########## SECTION 1 - Importing Required Packages and Functions ###############################\n",
    "import pandas as pd\n",
    "import numpy as np \n",
    "import time\n",
    "from simulate import generateData\n",
    "from linear_programs import checkMleExistence"
   ]
  },
  {
   "cell_type": "code",
   "execution_count": 17,
   "metadata": {},
   "outputs": [],
   "source": [
    "########## SECTION 2 - Generating Simulated Dataset ############################################\n",
    "\n",
    "# number of observations\n",
    "n=200\n",
    "\n",
    "# number of (Gaussian) covariates\n",
    "p=40\n",
    "\n",
    "# signal strength\n",
    "signal_strength = 5\n",
    "\n",
    "# Parameters for Distribution to draw Betas from. Betas ~ N(mu, stdev^2)\n",
    "mu = 0\n",
    "stdev = 1.0\n",
    "\n",
    "# Generate the data\n",
    "# - X is an (n,p+1) dimensional array with the n rows corresponding to observations and the p+1 columns\n",
    "#   corresponding to the covariates + a column of 1's (for the intercept term)\n",
    "# - Beta is the (p+1,) dimensional array of 'True' regression coefficients\n",
    "# - y is the (n,) dimensional array of response values for the observations\n",
    "# - means is the (n,) dimensional array of predicted values (probabilities in case of logistic)\n",
    "# *THOUGHT: Perhaps we could use another term instead of means to avoid confusion with the systematic component?\n",
    "# * perhaps y_hat, preds, etc?\n",
    "X, Beta, y, means = generateData(dist = 'bernoulli', n = n, p = p, mu = mu, stdev = stdev, signal_strength = signal_strength) "
   ]
  },
  {
   "cell_type": "code",
   "execution_count": 18,
   "metadata": {},
   "outputs": [
    {
     "data": {
      "text/plain": [
       "5.000000000000001"
      ]
     },
     "execution_count": 18,
     "metadata": {},
     "output_type": "execute_result"
    }
   ],
   "source": [
    "# Sanity Check 1: Should be equal to signal strength\n",
    "Beta.dot(Beta)/n"
   ]
  },
  {
   "cell_type": "code",
   "execution_count": 19,
   "metadata": {},
   "outputs": [],
   "source": [
    "# Sanity check 2 - Ignore\n",
    "#from simulate import generateRandomBeta\n",
    "#beta = generateRandomBeta(q=p, mu=mu, stdev=stdev)\n",
    "#bb = beta * np.sqrt( (n * signal_strength) / beta.T.dot(beta).values[0,0] )\n",
    "#bb.values.T.dot(bb.values)/n # check"
   ]
  },
  {
   "cell_type": "code",
   "execution_count": 20,
   "metadata": {},
   "outputs": [],
   "source": [
    "# Combining the predictor and response data into a single pandas dataframe df\n",
    "df = pd.DataFrame(X)\n",
    "y = np.array(y)\n",
    "y = np.where(y>0,1,-1)# Changed label 0 to -1, For convenience, we choose the label as {-1,1} instead of {0,1}\n",
    "df['y'] = pd.Series(y)"
   ]
  },
  {
   "cell_type": "code",
   "execution_count": 21,
   "metadata": {},
   "outputs": [
    {
     "data": {
      "text/plain": [
       "(array([6., 7., 2., 3., 1., 2., 3., 5., 2., 5., 1., 0., 1., 1., 4., 0., 5.,\n",
       "        3., 3., 3., 2., 1., 0., 1., 2., 1., 1., 1., 2., 3., 3., 1., 1., 1.,\n",
       "        0., 4., 0., 2., 4., 1., 4., 1., 2., 0., 1., 0., 0., 4., 4., 0., 1.,\n",
       "        2., 1., 3., 1., 5., 1., 3., 1., 2., 1., 1., 0., 0., 3., 1., 3., 2.,\n",
       "        1., 2., 1., 0., 0., 3., 2., 2., 3., 2., 3., 4., 1., 0., 0., 1., 2.,\n",
       "        0., 0., 4., 3., 1., 1., 2., 3., 2., 4., 4., 4., 4., 2.]),\n",
       " array([7.38390334e-04, 1.07135117e-02, 2.06886331e-02, 3.06637545e-02,\n",
       "        4.06388760e-02, 5.06139974e-02, 6.05891188e-02, 7.05642402e-02,\n",
       "        8.05393616e-02, 9.05144830e-02, 1.00489604e-01, 1.10464726e-01,\n",
       "        1.20439847e-01, 1.30414969e-01, 1.40390090e-01, 1.50365211e-01,\n",
       "        1.60340333e-01, 1.70315454e-01, 1.80290576e-01, 1.90265697e-01,\n",
       "        2.00240818e-01, 2.10215940e-01, 2.20191061e-01, 2.30166183e-01,\n",
       "        2.40141304e-01, 2.50116425e-01, 2.60091547e-01, 2.70066668e-01,\n",
       "        2.80041790e-01, 2.90016911e-01, 2.99992032e-01, 3.09967154e-01,\n",
       "        3.19942275e-01, 3.29917397e-01, 3.39892518e-01, 3.49867640e-01,\n",
       "        3.59842761e-01, 3.69817882e-01, 3.79793004e-01, 3.89768125e-01,\n",
       "        3.99743247e-01, 4.09718368e-01, 4.19693489e-01, 4.29668611e-01,\n",
       "        4.39643732e-01, 4.49618854e-01, 4.59593975e-01, 4.69569096e-01,\n",
       "        4.79544218e-01, 4.89519339e-01, 4.99494461e-01, 5.09469582e-01,\n",
       "        5.19444703e-01, 5.29419825e-01, 5.39394946e-01, 5.49370068e-01,\n",
       "        5.59345189e-01, 5.69320310e-01, 5.79295432e-01, 5.89270553e-01,\n",
       "        5.99245675e-01, 6.09220796e-01, 6.19195917e-01, 6.29171039e-01,\n",
       "        6.39146160e-01, 6.49121282e-01, 6.59096403e-01, 6.69071524e-01,\n",
       "        6.79046646e-01, 6.89021767e-01, 6.98996889e-01, 7.08972010e-01,\n",
       "        7.18947132e-01, 7.28922253e-01, 7.38897374e-01, 7.48872496e-01,\n",
       "        7.58847617e-01, 7.68822739e-01, 7.78797860e-01, 7.88772981e-01,\n",
       "        7.98748103e-01, 8.08723224e-01, 8.18698346e-01, 8.28673467e-01,\n",
       "        8.38648588e-01, 8.48623710e-01, 8.58598831e-01, 8.68573953e-01,\n",
       "        8.78549074e-01, 8.88524195e-01, 8.98499317e-01, 9.08474438e-01,\n",
       "        9.18449560e-01, 9.28424681e-01, 9.38399802e-01, 9.48374924e-01,\n",
       "        9.58350045e-01, 9.68325167e-01, 9.78300288e-01, 9.88275409e-01]),\n",
       " <a list of 99 Patch objects>)"
      ]
     },
     "execution_count": 21,
     "metadata": {},
     "output_type": "execute_result"
    },
    {
     "data": {
      "image/png": "[encoded data removed]",
      "text/plain": [
       "<Figure size 432x288 with 1 Axes>"
      ]
     },
     "metadata": {
      "needs_background": "light"
     },
     "output_type": "display_data"
    }
   ],
   "source": [
    "# QUICK ASIDE...\n",
    "# Looking at distribution of means\n",
    "import matplotlib.pyplot as plt\n",
    "min_mean = min(means)\n",
    "max_mean = max(means)\n",
    "plt.hist(means, bins=np.arange(min_mean, max_mean, (max_mean-min_mean)/100))"
   ]
  },
  {
   "cell_type": "code",
   "execution_count": 22,
   "metadata": {},
   "outputs": [
    {
     "data": {
      "text/plain": [
       "(array([ 1.,  0.,  0.,  0.,  1.,  0.,  0.,  0.,  0.,  0.,  0.,  1.,  0.,\n",
       "         0.,  0.,  0.,  0.,  1.,  1.,  1.,  1.,  2.,  2.,  2.,  1.,  0.,\n",
       "         0.,  3.,  1.,  0.,  0.,  2.,  1.,  3.,  4.,  3.,  4.,  2.,  0.,\n",
       "         4.,  2.,  8.,  6.,  3.,  2.,  4.,  6.,  4.,  5.,  7.,  7.,  1.,\n",
       "         8.,  3., 10.,  6.,  3.,  3.,  7.,  3.,  5.,  5.,  6.,  4.,  0.,\n",
       "         3.,  0.,  4.,  4.,  1.,  2.,  3.,  2.,  1.,  4.,  1.,  2.,  2.,\n",
       "         3.,  1.,  0.,  3.,  0.,  0.,  0.,  1.,  0.,  0.,  1.,  1.,  0.,\n",
       "         0.,  0.,  1.,  0.,  0.,  0.,  0.,  0.]),\n",
       " array([-7.2102993 , -7.07472939, -6.93915948, -6.80358957, -6.66801965,\n",
       "        -6.53244974, -6.39687983, -6.26130992, -6.12574001, -5.9901701 ,\n",
       "        -5.85460018, -5.71903027, -5.58346036, -5.44789045, -5.31232054,\n",
       "        -5.17675062, -5.04118071, -4.9056108 , -4.77004089, -4.63447098,\n",
       "        -4.49890107, -4.36333115, -4.22776124, -4.09219133, -3.95662142,\n",
       "        -3.82105151, -3.68548159, -3.54991168, -3.41434177, -3.27877186,\n",
       "        -3.14320195, -3.00763203, -2.87206212, -2.73649221, -2.6009223 ,\n",
       "        -2.46535239, -2.32978248, -2.19421256, -2.05864265, -1.92307274,\n",
       "        -1.78750283, -1.65193292, -1.516363  , -1.38079309, -1.24522318,\n",
       "        -1.10965327, -0.97408336, -0.83851344, -0.70294353, -0.56737362,\n",
       "        -0.43180371, -0.2962338 , -0.16066389, -0.02509397,  0.11047594,\n",
       "         0.24604585,  0.38161576,  0.51718567,  0.65275559,  0.7883255 ,\n",
       "         0.92389541,  1.05946532,  1.19503523,  1.33060515,  1.46617506,\n",
       "         1.60174497,  1.73731488,  1.87288479,  2.0084547 ,  2.14402462,\n",
       "         2.27959453,  2.41516444,  2.55073435,  2.68630426,  2.82187418,\n",
       "         2.95744409,  3.093014  ,  3.22858391,  3.36415382,  3.49972373,\n",
       "         3.63529365,  3.77086356,  3.90643347,  4.04200338,  4.17757329,\n",
       "         4.31314321,  4.44871312,  4.58428303,  4.71985294,  4.85542285,\n",
       "         4.99099277,  5.12656268,  5.26213259,  5.3977025 ,  5.53327241,\n",
       "         5.66884232,  5.80441224,  5.93998215,  6.07555206,  6.21112197]),\n",
       " <a list of 99 Patch objects>)"
      ]
     },
     "execution_count": 22,
     "metadata": {},
     "output_type": "execute_result"
    },
    {
     "data": {
      "image/png": "[encoded data removed]",
      "text/plain": [
       "<Figure size 432x288 with 1 Axes>"
      ]
     },
     "metadata": {
      "needs_background": "light"
     },
     "output_type": "display_data"
    }
   ],
   "source": [
    "# Looking at distribution of systematic components (would prefer to call these the \"means\")\n",
    "sys = X.dot(Beta)\n",
    "min_sys = min(sys)\n",
    "max_sys = max(sys)\n",
    "plt.hist(sys, bins=np.arange(min_sys, max_sys, (max_sys-min_sys)/100))"
   ]
  },
  {
   "cell_type": "code",
   "execution_count": 23,
   "metadata": {},
   "outputs": [
    {
     "name": "stdout",
     "output_type": "stream",
     "text": [
      " 2.5th percentile: -4.580159296247452\n",
      "97.5th percentile: 3.9119650785253834\n"
     ]
    }
   ],
   "source": [
    "# Checking percentiles of 'sys'. For signal strength of 5, 2.5th percentile should be > ~-4.472\n",
    "# and 97.5th percentile should be < ~4.472\n",
    "print(' 2.5th percentile: '+str(np.percentile(sys,2.5)))\n",
    "print('97.5th percentile: '+str(np.percentile(sys,97.5)))"
   ]
  },
  {
   "cell_type": "code",
   "execution_count": 28,
   "metadata": {},
   "outputs": [
    {
     "name": "stdout",
     "output_type": "stream",
     "text": [
      "Lower Bound of Kappa: 0.35000000000000014 Upper Bound of Kappa: 0.36000000000000015 kappa proportions: [0.0, 0.0, 0.0, 0.0, 0.0, 0.0, 0.02, 0.04, 0.04, 0.1, 0.2, 0.24, 0.28, 0.3, 0.46, 0.48, 0.64, 0.56, 0.68, 0.7, 0.7, 0.66, 0.86, 0.86, 0.88, 0.96, 0.88, 0.98, 0.98, 1.0, 1.0, 1.0, 0.98, 0.98, 1.0, 1.0, 1.0, 1.0, 1.0, 1.0, 1.0]\n",
      "Time for the Code to run: 100\n"
     ]
    }
   ],
   "source": [
    "########## SECTION 3 -  ############################################\n",
    "########## SECTION 2 - Generating Simulated Dataset ############################################\n",
    "\n",
    "# Given a data sample (y_i, X_i), start by choosing a \"fine grid\" of kappas <= 1/2\n",
    "kappaArray = np.arange(0.2,0.61,0.01) # CHANGED TO SMALLEST VALUE TO 0.1\n",
    "\n",
    "# Initializing list to hold proportions of times MLE *** does not **** exist at each kappa\n",
    "kappaProportion = []\n",
    "\n",
    "d1 = time.time()\n",
    "\n",
    "# For each k_j in the grid, we do the following:\n",
    "for kappa in kappaArray:\n",
    "    \n",
    "    # Set sample size to n_j =p / k_j (rounding off to nearest integer)\n",
    "    # NOTE: FOR LARGE P THERE MAY NOT BE ENOUGH SAMPLES FOR SMALL KAPPA!\n",
    "    sampleSize = int(round(p/kappa))\n",
    "\n",
    "    # Here, we draw several samples and check to see if the MLE exists. B is the number of\n",
    "    # rounds of sampling\n",
    "    B = 50\n",
    "    \n",
    "    # nMleDNE is the total number of times the MLE *** Does Not Exist *** for each kappa (k_j). This\n",
    "    # is initially set to 0\n",
    "    nMleDNE = 0\n",
    "    for i in range(B):\n",
    "        subSample = df.sample(n=sampleSize) # draw the sample\n",
    "        subSample =subSample.reset_index(drop = True) # Reindexing is necessary because df.sample draws \n",
    "                                                        # the originial index from the dataframe\n",
    "        \n",
    "        mleStatus = checkMleExistence(subSample) # check if MLE exists\n",
    "        # Note that checkMleExistence returns a coded value. The list of coded values can be\n",
    "        # found here: https://www.gurobi.com/documentation/9.0/refman/optimization_status_codes.html\n",
    "        # We are most interested in the number of times (out of B times) MLE does not exist.\n",
    "        # If MLE does not exist, the checkMleExistence function will return status code 2 indicating that the \n",
    "        # LP has an optimal solution. \n",
    "        \n",
    "        if mleStatus == 2:\n",
    "            nMleDNE +=1\n",
    "            \n",
    "    # Dividing nMleExist by B gives an estimate of the proportion of times the MLE exists.\n",
    "    propMleDNE = nMleDNE/B\n",
    "    kappaProportion.append(propMleDNE)\n",
    "    \n",
    "\n",
    "# Now, we need (kappa_j-1, kappa_j) such that kappa_j is the smallest value for which the proportion of times\n",
    "# the MLE does not exist\n",
    "uIdx = 0\n",
    "for kappaProp in kappaProportion:\n",
    "    if kappaProp>=0.5:\n",
    "        uIdx = kappaProportion.index(kappaProp) # index of kappa_j\n",
    "        break\n",
    "if uIdx != 0:\n",
    "    uKappa = kappaArray[uIdx] # kappa_j\n",
    "    lKappa = kappaArray[uIdx-1] # kappa_j-1\n",
    "else:\n",
    "    print('Method Failed, All Subsamples are separable!')\n",
    "\n",
    "d2 = time.time()\n",
    "delta = round(d2 - d1)\n",
    "print('Lower Bound of Kappa:',lKappa,'Upper Bound of Kappa:',uKappa, 'kappa proportions:', kappaProportion)\n",
    "print('Time for the Code to run:',delta)"
   ]
  },
  {
   "cell_type": "code",
   "execution_count": null,
   "metadata": {},
   "outputs": [],
   "source": []
  }
 ],
 "metadata": {
  "kernelspec": {
   "display_name": "Python [conda env:gurobi]",
   "language": "python",
   "name": "conda-env-gurobi-py"
  },
  "language_info": {
   "codemirror_mode": {
    "name": "ipython",
    "version": 3
   },
   "file_extension": ".py",
   "mimetype": "text/x-python",
   "name": "python",
   "nbconvert_exporter": "python",
   "pygments_lexer": "ipython3",
   "version": "3.7.5"
  }
 },
 "nbformat": 4,
 "nbformat_minor": 2
}
