{
 "cells": [
  {
   "cell_type": "code",
   "execution_count": 8,
   "metadata": {},
   "outputs": [],
   "source": [
    "########## SECTION 1 - Importing Required Packages and Functions ###############################\n",
    "import pandas as pd\n",
    "import numpy as np\n",
    "import sys\n",
    "from decimal import *\n",
    "import time\n",
    "from simulate import generateData\n",
    "from linear_programs import checkMleExistence"
   ]
  },
  {
   "cell_type": "code",
   "execution_count": 9,
   "metadata": {},
   "outputs": [],
   "source": [
    "########## SECTION 2 - Generating Simulated Dataset ############################################\n",
    "\n",
    "# number of observations\n",
    "n=200\n",
    "\n",
    "# number of (Gaussian) covariates\n",
    "p=40\n",
    "\n",
    "# signal strength\n",
    "signal_strength = 5\n",
    "\n",
    "# Parameters for Distribution to draw Betas from. Betas ~ N(mu, stdev^2)\n",
    "mu = 0\n",
    "stdev = 1.0\n",
    "\n",
    "# Generate the data\n",
    "# - X is an (n,p+1) dimensional array with the n rows corresponding to observations and the p+1 columns\n",
    "#   corresponding to the covariates + a column of 1's (for the intercept term)\n",
    "# - Beta is the (p+1,) dimensional array of 'True' regression coefficients\n",
    "# - y is the (n,) dimensional array of response values for the observations\n",
    "# - means is the (n,) dimensional array of predicted values (probabilities in case of logistic)\n",
    "# *THOUGHT: Perhaps we could use another term instead of means to avoid confusion with the systematic component?\n",
    "# * perhaps y_hat, preds, etc?\n",
    "X, Beta, y, means = generateData(dist = 'bernoulli', n = n, p = p, mu = mu, stdev = stdev, \n",
    "                                 signal_strength = signal_strength) \n",
    "\n",
    "\n",
    "# Combining the predictor and response data into a single pandas dataframe df\n",
    "df = pd.DataFrame(X)\n",
    "y = np.array(y)\n",
    "y = np.where(y>0,1,-1)# Changed label 0 to -1, For convenience, we choose the label as {-1,1} instead of {0,1}\n",
    "df['y'] = pd.Series(y)"
   ]
  },
  {
   "cell_type": "code",
   "execution_count": 10,
   "metadata": {},
   "outputs": [
    {
     "name": "stdout",
     "output_type": "stream",
     "text": [
      "Signal Strength From Data: 5.0\n",
      "Assigned Signal Strength: 5\n"
     ]
    },
    {
     "data": {
      "image/png": "[encoded data removed]",
      "text/plain": [
       "<Figure size 432x288 with 1 Axes>"
      ]
     },
     "metadata": {
      "needs_background": "light"
     },
     "output_type": "display_data"
    },
    {
     "data": {
      "image/png": "[encoded data removed]",
      "text/plain": [
       "<Figure size 432x288 with 1 Axes>"
      ]
     },
     "metadata": {
      "needs_background": "light"
     },
     "output_type": "display_data"
    },
    {
     "name": "stdout",
     "output_type": "stream",
     "text": [
      " 2.5th percentile: -3.7291896083157976\n",
      "97.5th percentile: 4.886670091204397\n"
     ]
    }
   ],
   "source": [
    "########### Section 3 - Data Validation ######################\n",
    "\n",
    "\n",
    "# Sanity Check 1: Should be equal to signal strength\n",
    "print('Signal Strength From Data:',Beta.dot(Beta)/n)\n",
    "print('Assigned Signal Strength:',signal_strength)\n",
    "\n",
    "# QUICK ASIDE...\n",
    "# Looking at distribution of means\n",
    "import matplotlib.pyplot as plt\n",
    "min_mean = min(means)\n",
    "max_mean = max(means)\n",
    "plt.hist(means, bins=np.arange(min_mean, max_mean, (max_mean-min_mean)/100))\n",
    "plt.show()\n",
    "\n",
    "\n",
    "# Looking at distribution of systematic components (would prefer to call these the \"means\")\n",
    "sys_comp = X.dot(Beta)\n",
    "min_sys_comp = min(sys_comp)\n",
    "max_sys_comp = max(sys_comp)\n",
    "plt.hist(sys_comp, bins=np.arange(min_sys_comp, max_sys_comp, (max_sys_comp-min_sys_comp)/100))\n",
    "plt.show()\n",
    "\n",
    "# Checking percentiles of 'sys_comp'. For signal strength of 5, 2.5th percentile should be > ~-4.472\n",
    "# and 97.5th percentile should be < ~4.472\n",
    "print(' 2.5th percentile: '+str(np.percentile(sys_comp,2.5)))\n",
    "print('97.5th percentile: '+str(np.percentile(sys_comp,97.5)))"
   ]
  },
  {
   "cell_type": "code",
   "execution_count": 11,
   "metadata": {},
   "outputs": [
    {
     "name": "stdout",
     "output_type": "stream",
     "text": [
      "Using license file C:\\Users\\laure\\gurobi.lic\n",
      "Academic license - for non-commercial use only\n",
      "Lower Bound of Kappa: 0.3300000000000001\n",
      "Upper Bound of Kappa: 0.34000000000000014\n",
      "Kappa can be found by averaging the lower and upper bound or even setting the upper bound conservatively\n",
      "Kappa Hat: 0.335\n",
      "kappa proportions: [0.0, 0.0, 0.0, 0.0, 0.0, 0.0, 0.0, 0.0, 0.0, 0.12, 0.14, 0.18, 0.2, 0.34, 0.6, 0.5, 0.66, 0.68, 0.78, 0.82, 0.86, 0.92, 0.94, 0.92, 0.92, 0.98, 1.0, 1.0, 1.0, 1.0, 1.0]\n",
      "Time for the Code to run: 138\n"
     ]
    }
   ],
   "source": [
    "########## SECTION 4 - Probe Frontier ############################################\n",
    "\n",
    "# Given a data sample (y_i, X_i), start by choosing a \"fine grid\" of kappas <= 1/2\n",
    "# Here we can choose the kappa_grid_size and the lower and upper bound of the grid will be automatic\n",
    "\n",
    "grid_step_size = 0.01\n",
    "\n",
    "dec_count = str(grid_step_size)[::-1].find('.')\n",
    "min_kappa = np.around(p/n,dec_count)\n",
    "if min_kappa>0.5:\n",
    "    sys.exit(\"Add more observations or reduce predictors!\")\n",
    "else:\n",
    "    max_kappa = 0.51\n",
    "    \n",
    "kappaArray = np.arange(min_kappa,max_kappa,grid_step_size)\n",
    "\n",
    "\n",
    "\n",
    "# Initializing list to hold proportions of times MLE *** does not **** exist at each kappa\n",
    "kappaProportion = []\n",
    "\n",
    "d1 = time.time()\n",
    "\n",
    "# For each k_j in the grid, we do the following:\n",
    "for kappa in kappaArray:\n",
    "    \n",
    "    # Set sample size to n_j =p / k_j (rounding off to nearest integer)\n",
    "    sampleSize = int(round(p/kappa))\n",
    "\n",
    "    # Here, we draw several samples and check to see if the MLE exists. B is the number of\n",
    "    # rounds of sampling\n",
    "    B = 50\n",
    "    \n",
    "    # nMleDNE is the total number of times the MLE *** Does Not Exist *** for each kappa (k_j). This\n",
    "    # is initially set to 0\n",
    "    nMleDNE = 0\n",
    "    \n",
    "    for i in range(B):\n",
    "        subSample = df.sample(n=sampleSize) # draw the subsample\n",
    "        subSample =subSample.reset_index(drop = True) # Reindexing is necessary because df.sample draws \n",
    "                                                        # the index from the original dataframe\n",
    "        \n",
    "        mleStatus = checkMleExistence(subSample) # check if MLE exists\n",
    "        # Note that checkMleExistence returns a coded value. The list of coded values can be\n",
    "        # found here: https://www.gurobi.com/documentation/9.0/refman/optimization_status_codes.html\n",
    "        # We are most interested in the number of times (out of B times) MLE does not exist.\n",
    "        # If MLE does not exist, the checkMleExistence function will return status code 2 indicating that the \n",
    "        # LP has an optimal solution. \n",
    "        \n",
    "        if mleStatus == 2:\n",
    "            nMleDNE +=1\n",
    "            \n",
    "    # Dividing nMleExist by B gives an estimate of the proportion of times the MLE does not exist.\n",
    "    propMleDNE = nMleDNE/B\n",
    "    kappaProportion.append(propMleDNE)\n",
    "    \n",
    "\n",
    "# Now, we need (kappa_j-1, kappa_j) such that kappa_j is the smallest value (kappa) for which \n",
    "# the proportion of times the MLE does not exist is greater than or equals to 0.5\n",
    "\n",
    "uIdx = 0 #index of kappa_j, initially set to zero\n",
    "\n",
    "for kappaProp in kappaProportion:\n",
    "    if kappaProp>=0.5: # First occuence of 0.5 or higher\n",
    "        uIdx = kappaProportion.index(kappaProp) # index of kappa_j\n",
    "        break\n",
    "\n",
    "if uIdx != 0:\n",
    "    uKappa = kappaArray[uIdx] # kappa_j: Upper Bound of Kappa\n",
    "    lKappa = kappaArray[uIdx-1] # kappa_j-1: Lower Bound of Kappa\n",
    "else: # If there is no kappa for which the proportion is 0.5 or higher or vice versa\n",
    "    print('kappa proportions:', kappaProportion)\n",
    "    print('Time for the Code to run:',delta)\n",
    "    sys.exit(\"Method Failed, Try again changing n,p, and B!\")\n",
    "\n",
    "d2 = time.time()\n",
    "delta = round(d2 - d1)\n",
    "print('Lower Bound of Kappa:',lKappa)\n",
    "print('Upper Bound of Kappa:',uKappa)\n",
    "print('Kappa can be found by averaging the lower and upper bound or even setting the upper bound conservatively')\n",
    "kappaHat = np.around((lKappa + uKappa)/2,dec_count+1)\n",
    "print('Kappa Hat:',kappaHat)\n",
    "print('kappa proportions:', kappaProportion)\n",
    "print('Time for the Code to run:',delta)"
   ]
  },
  {
   "cell_type": "code",
   "execution_count": 12,
   "metadata": {},
   "outputs": [],
   "source": [
    "grid_step_size = 0.01\n",
    "\n",
    "dec_count = str(grid_step_size)[::-1].find('.')\n",
    "min_kappa = np.around(p/n,dec_count)\n",
    "if min_kappa>0.5:\n",
    "    sys.exit(\"Add more observations or reduce predictors!\")\n",
    "else:\n",
    "    max_kappa = 0.51\n",
    "    \n",
    "kappaArray = np.arange(min_kappa,max_kappa,grid_step_size)\n",
    "gammaArray = np.arange(0.5,10,0.5)\n",
    "\n",
    "n=200\n",
    "p=40\n",
    "mu = 0\n",
    "stdev = 1.0\n",
    "kappaProportion = []\n",
    "for gamma in gammaArray:\n",
    "    kappa_=[]\n",
    "    X, Beta, y, means = generateData(dist = 'bernoulli', n = n, p = p, mu = mu, stdev = stdev, signal_strength = gamma)\n",
    "    df = pd.DataFrame(X)\n",
    "    y = np.array(y)\n",
    "    y = np.where(y>0,1,-1)\n",
    "    df['y'] = pd.Series(y)\n",
    "    \n",
    "    for kappa in kappaArray:\n",
    "    \n",
    "        sampleSize = int(round(p/kappa))\n",
    "        B = 50\n",
    "        nMleDNE = 0\n",
    "\n",
    "        for i in range(B):\n",
    "            subSample = df.sample(n=sampleSize) \n",
    "            subSample =subSample.reset_index(drop = True)         \n",
    "            mleStatus = checkMleExistence(subSample) \n",
    "            if mleStatus == 2:\n",
    "                nMleDNE +=1\n",
    "\n",
    "        propMleDNE = nMleDNE/B\n",
    "        kappa_.append(propMleDNE)\n",
    "    kappaProportion.append(kappa_)\n",
    "    "
   ]
  },
  {
   "cell_type": "code",
   "execution_count": 13,
   "metadata": {},
   "outputs": [],
   "source": [
    "np.savetxt(\"kappaProportion.csv\", kappaProportion, delimiter=\",\")"
   ]
  },
  {
   "cell_type": "code",
   "execution_count": 14,
   "metadata": {},
   "outputs": [],
   "source": [
    "kappaProportion=pd.read_csv(\"kappaProportion.csv\", delimiter=\",\")"
   ]
  },
  {
   "cell_type": "code",
   "execution_count": 15,
   "metadata": {},
   "outputs": [],
   "source": [
    "import matplotlib.pyplot as plt\n",
    "import seaborn as sns"
   ]
  },
  {
   "cell_type": "code",
   "execution_count": 16,
   "metadata": {},
   "outputs": [],
   "source": [
    "gamma=[]\n",
    "\n",
    "for i in gammaArray:\n",
    "    g=round(i,2)\n",
    "    gamma.append(g)\n",
    "\n",
    "kappa=[]\n",
    "\n",
    "for i in kappaArray:\n",
    "    k=round(i,2)\n",
    "    kappa.append(k)"
   ]
  },
  {
   "cell_type": "code",
   "execution_count": 17,
   "metadata": {},
   "outputs": [
    {
     "data": {
      "image/png": "[encoded data removed]",
      "text/plain": [
       "<Figure size 432x288 with 2 Axes>"
      ]
     },
     "metadata": {
      "needs_background": "light"
     },
     "output_type": "display_data"
    }
   ],
   "source": [
    "proportions=np.array(kappaProportion) \n",
    "cmap = sns.cubehelix_palette(light=1, as_cmap=True)\n",
    "heat_map=sns.heatmap(proportions, xticklabels=kappa, yticklabels=gamma,cmap=cmap)\n",
    "plt.gca().invert_yaxis()\n",
    "plt.xlabel(\"kappa_hats\")\n",
    "plt.ylabel(\"gammas\")\n",
    "plt.show()"
   ]
  },
  {
   "cell_type": "code",
   "execution_count": null,
   "metadata": {},
   "outputs": [],
   "source": []
  }
 ],
 "metadata": {
  "kernelspec": {
   "display_name": "Python 3",
   "language": "python",
   "name": "python3"
  },
  "language_info": {
   "codemirror_mode": {
    "name": "ipython",
    "version": 3
   },
   "file_extension": ".py",
   "mimetype": "text/x-python",
   "name": "python",
   "nbconvert_exporter": "python",
   "pygments_lexer": "ipython3",
   "version": "3.7.6"
  }
 },
 "nbformat": 4,
 "nbformat_minor": 2
}
