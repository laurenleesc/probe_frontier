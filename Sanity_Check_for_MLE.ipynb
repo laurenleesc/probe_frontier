{
 "cells": [
  {
   "cell_type": "code",
   "execution_count": 1,
   "metadata": {},
   "outputs": [],
   "source": [
    "import pandas as pd\n",
    "import numpy as np\n",
    "from gurobipy import *\n",
    "\n",
    "from sklearn.preprocessing import StandardScaler\n",
    "sc = StandardScaler()\n",
    "from scipy.optimize import linprog"
   ]
  },
  {
   "cell_type": "code",
   "execution_count": 2,
   "metadata": {},
   "outputs": [],
   "source": [
    "X_separable = np.array([[-2],[-1],[1],[2]])\n",
    "y_separable = np.array([[-1],[-1],[1],[1]])\n",
    "# If the X values are plotted on the X axis, there will be clear linear separation between label -1 and 1\n",
    "# In this case the LP will give an optimal solution\n",
    "# Indicates the MLE does not Exist"
   ]
  },
  {
   "cell_type": "code",
   "execution_count": 3,
   "metadata": {},
   "outputs": [],
   "source": [
    "X_nonseparable = np.array([[-2],[-1],[1],[2]])\n",
    "y_nonseparable = np.array([[-1],[1],[-1],[1]])\n",
    "# If the X values are plotted on the X axis, there are no linear separation between label -1 and 1\n",
    "# In this case the LP will say Infeasible solution\n",
    "# Indicates the MLE Exists"
   ]
  },
  {
   "cell_type": "markdown",
   "metadata": {},
   "source": [
    "# Separable"
   ]
  },
  {
   "cell_type": "code",
   "execution_count": 4,
   "metadata": {},
   "outputs": [
    {
     "data": {
      "text/html": [
       "<div>\n",
       "<style scoped>\n",
       "    .dataframe tbody tr th:only-of-type {\n",
       "        vertical-align: middle;\n",
       "    }\n",
       "\n",
       "    .dataframe tbody tr th {\n",
       "        vertical-align: top;\n",
       "    }\n",
       "\n",
       "    .dataframe thead th {\n",
       "        text-align: right;\n",
       "    }\n",
       "</style>\n",
       "<table border=\"1\" class=\"dataframe\">\n",
       "  <thead>\n",
       "    <tr style=\"text-align: right;\">\n",
       "      <th></th>\n",
       "      <th>0</th>\n",
       "    </tr>\n",
       "  </thead>\n",
       "  <tbody>\n",
       "    <tr>\n",
       "      <th>0</th>\n",
       "      <td>-2</td>\n",
       "    </tr>\n",
       "    <tr>\n",
       "      <th>1</th>\n",
       "      <td>-1</td>\n",
       "    </tr>\n",
       "    <tr>\n",
       "      <th>2</th>\n",
       "      <td>1</td>\n",
       "    </tr>\n",
       "    <tr>\n",
       "      <th>3</th>\n",
       "      <td>2</td>\n",
       "    </tr>\n",
       "  </tbody>\n",
       "</table>\n",
       "</div>"
      ],
      "text/plain": [
       "   0\n",
       "0 -2\n",
       "1 -1\n",
       "2  1\n",
       "3  2"
      ]
     },
     "execution_count": 4,
     "metadata": {},
     "output_type": "execute_result"
    }
   ],
   "source": [
    "X = pd.DataFrame(X_separable)\n",
    "X"
   ]
  },
  {
   "cell_type": "code",
   "execution_count": 5,
   "metadata": {},
   "outputs": [
    {
     "data": {
      "text/html": [
       "<div>\n",
       "<style scoped>\n",
       "    .dataframe tbody tr th:only-of-type {\n",
       "        vertical-align: middle;\n",
       "    }\n",
       "\n",
       "    .dataframe tbody tr th {\n",
       "        vertical-align: top;\n",
       "    }\n",
       "\n",
       "    .dataframe thead th {\n",
       "        text-align: right;\n",
       "    }\n",
       "</style>\n",
       "<table border=\"1\" class=\"dataframe\">\n",
       "  <thead>\n",
       "    <tr style=\"text-align: right;\">\n",
       "      <th></th>\n",
       "      <th>0</th>\n",
       "    </tr>\n",
       "  </thead>\n",
       "  <tbody>\n",
       "    <tr>\n",
       "      <th>0</th>\n",
       "      <td>-1</td>\n",
       "    </tr>\n",
       "    <tr>\n",
       "      <th>1</th>\n",
       "      <td>-1</td>\n",
       "    </tr>\n",
       "    <tr>\n",
       "      <th>2</th>\n",
       "      <td>1</td>\n",
       "    </tr>\n",
       "    <tr>\n",
       "      <th>3</th>\n",
       "      <td>1</td>\n",
       "    </tr>\n",
       "  </tbody>\n",
       "</table>\n",
       "</div>"
      ],
      "text/plain": [
       "   0\n",
       "0 -1\n",
       "1 -1\n",
       "2  1\n",
       "3  1"
      ]
     },
     "execution_count": 5,
     "metadata": {},
     "output_type": "execute_result"
    }
   ],
   "source": [
    "y= pd.DataFrame(y_separable)\n",
    "y"
   ]
  },
  {
   "cell_type": "markdown",
   "metadata": {},
   "source": [
    "# Scipy Way (Separable) Internet Version"
   ]
  },
  {
   "cell_type": "code",
   "execution_count": 6,
   "metadata": {},
   "outputs": [
    {
     "data": {
      "text/plain": [
       "     con: array([], dtype=float64)\n",
       "     fun: 0.4367339119588688\n",
       " message: 'The algorithm terminated successfully and determined that the problem is infeasible.'\n",
       "     nit: 4\n",
       "   slack: array([-1.056134  , -0.91850518, -1.35675246, -1.49438128])\n",
       "  status: 2\n",
       " success: False\n",
       "       x: array([0.21761027, 0.21912364])"
      ]
     },
     "execution_count": 6,
     "metadata": {},
     "output_type": "execute_result"
    }
   ],
   "source": [
    "tmp = X.values\n",
    "tmp = sc.fit_transform(tmp)\n",
    "\n",
    "\n",
    "xx = np.array(y.values.reshape(-1,1) * tmp)\n",
    "t = y.values\n",
    "\n",
    "A_ub = np.append(xx, t.reshape(-1,1), 1)\n",
    "b_ub = np.repeat(-1, A_ub.shape[0]).reshape(-1,1)\n",
    "\n",
    "c_obj = np.repeat(1, A_ub.shape[1])\n",
    "\n",
    "res = linprog(c=c_obj, A_ub=A_ub, b_ub=b_ub, options={\"disp\": False, \"maxiter\":10})\n",
    "res"
   ]
  },
  {
   "cell_type": "markdown",
   "metadata": {},
   "source": [
    "#### The data is separable by labels, so the LP should have produced an optimal solution. Any values between -1 to 1 is a solution which is separating vector "
   ]
  },
  {
   "cell_type": "markdown",
   "metadata": {},
   "source": [
    "# Scipy Way (Separable) Shafi Version"
   ]
  },
  {
   "cell_type": "code",
   "execution_count": 7,
   "metadata": {},
   "outputs": [
    {
     "data": {
      "text/plain": [
       "     con: array([], dtype=float64)\n",
       "     fun: 0.0\n",
       " message: 'The solution was determined in presolve as there are no non-trivial constraints.'\n",
       "     nit: 0\n",
       "   slack: array([-1.1920929e-06, -1.1920929e-06, -1.1920929e-06, -1.1920929e-06])\n",
       "  status: 0\n",
       " success: True\n",
       "       x: array([0.])"
      ]
     },
     "execution_count": 7,
     "metadata": {},
     "output_type": "execute_result"
    }
   ],
   "source": [
    "t = y.values\n",
    "float32_epsilon = (np.finfo(np.float32).eps)*10\n",
    "xx = np.array(t.reshape(-1,1) * X.values)\n",
    "neg_ones = np.repeat(-1, X.shape[0]).reshape(-1,1)\n",
    "\n",
    "A_ub = np.array(neg_ones * xx)\n",
    "\n",
    "b_ub = np.repeat(-1*float32_epsilon, X.shape[0]).reshape(-1,1)\n",
    "\n",
    "c_obj = np.repeat(0, X.shape[1])\n",
    "\n",
    "res = linprog(c=c_obj, A_ub=A_ub, b_ub=b_ub, options={\"disp\": False, \"maxiter\":10})\n",
    "res"
   ]
  },
  {
   "cell_type": "markdown",
   "metadata": {},
   "source": [
    "#### In this case a solution is reached"
   ]
  },
  {
   "cell_type": "markdown",
   "metadata": {},
   "source": [
    "# Gurobi Way (Separable)"
   ]
  },
  {
   "cell_type": "code",
   "execution_count": 165,
   "metadata": {},
   "outputs": [
    {
     "name": "stdout",
     "output_type": "stream",
     "text": [
      "Gurobi Optimizer version 9.0.0 build v9.0.0rc2 (linux64)\n",
      "Optimize a model with 4 rows, 2 columns and 8 nonzeros\n",
      "Model fingerprint: 0x73b225ed\n",
      "Coefficient statistics:\n",
      "  Matrix range     [1e+00, 2e+00]\n",
      "  Objective range  [0e+00, 0e+00]\n",
      "  Bounds range     [0e+00, 0e+00]\n",
      "  RHS range        [1e-06, 1e-06]\n",
      "Presolve removed 4 rows and 2 columns\n",
      "Presolve time: 0.00s\n",
      "Presolve: All rows and columns removed\n",
      "Iteration    Objective       Primal Inf.    Dual Inf.      Time\n",
      "       0    0.0000000e+00   0.000000e+00   2.000000e-06      0s\n",
      "Extra one simplex iteration after uncrush\n",
      "       1    0.0000000e+00   0.000000e+00   0.000000e+00      0s\n",
      "\n",
      "Solved in 1 iterations and 0.00 seconds\n",
      "Optimal objective  0.000000000e+00\n",
      "Model Status: Optimal or Others\n"
     ]
    }
   ],
   "source": [
    "X_separable = np.array([[-2],[-1],[1],[2]])\n",
    "y_separable = np.array([[-1],[-1],[1],[1]])\n",
    "X = pd.DataFrame(X_separable)\n",
    "n,p = X.shape\n",
    "y = np.squeeze(y_separable)\n",
    "m = Model()\n",
    "v = []\n",
    "\n",
    "\n",
    "# Define variables and add to objective function\n",
    "for i in range(p):\n",
    "    v+= [m.addVar(-GRB.INFINITY,GRB.INFINITY,0,GRB.CONTINUOUS,\"v\"+str(i))]\n",
    "\n",
    "v+= [m.addVar(-GRB.INFINITY,GRB.INFINITY,0,GRB.CONTINUOUS,\"c\")]\n",
    "m.update()\n",
    "X['ones'] = np.ones(n)\n",
    "\n",
    "float32_epsilon = (np.finfo(np.float32).eps)*10\n",
    "\n",
    "# Constraints\n",
    "for i in range(n):\n",
    "    if y[i]>0:\n",
    "        m.addConstr(y[i]*((X.iloc[i]).dot(v))>= 0)\n",
    "    else:\n",
    "        m.addConstr(y[i]*((X.iloc[i]).dot(v))>= float32_epsilon)\n",
    "\n",
    "m.update()\n",
    "\n",
    "# m.ModelSense = -1\n",
    "# m.Params.OutputFlag = 0 # To avoid verbose output of m.optimize()\n",
    "m.optimize() # Run the model\n",
    "\n",
    "if m.status == 3:\n",
    "    model_status = 'Infeasible'\n",
    "else:\n",
    "    model_status = 'Optimal or Others'\n",
    "print('Model Status:',model_status)"
   ]
  },
  {
   "cell_type": "code",
   "execution_count": 8,
   "metadata": {},
   "outputs": [],
   "source": [
    "# A solution is reached, below is the solution"
   ]
  },
  {
   "cell_type": "code",
   "execution_count": 166,
   "metadata": {},
   "outputs": [
    {
     "name": "stdout",
     "output_type": "stream",
     "text": [
      "v0 : 5.96046e-07\n",
      "c : -5.96046e-07\n"
     ]
    }
   ],
   "source": [
    "for v in m.getVars():\n",
    "        print('%s %s %g' % (v.varName,':', v.x))"
   ]
  },
  {
   "cell_type": "markdown",
   "metadata": {},
   "source": [
    "# Inseparable"
   ]
  },
  {
   "cell_type": "code",
   "execution_count": 26,
   "metadata": {},
   "outputs": [
    {
     "data": {
      "text/html": [
       "<div>\n",
       "<style scoped>\n",
       "    .dataframe tbody tr th:only-of-type {\n",
       "        vertical-align: middle;\n",
       "    }\n",
       "\n",
       "    .dataframe tbody tr th {\n",
       "        vertical-align: top;\n",
       "    }\n",
       "\n",
       "    .dataframe thead th {\n",
       "        text-align: right;\n",
       "    }\n",
       "</style>\n",
       "<table border=\"1\" class=\"dataframe\">\n",
       "  <thead>\n",
       "    <tr style=\"text-align: right;\">\n",
       "      <th></th>\n",
       "      <th>0</th>\n",
       "    </tr>\n",
       "  </thead>\n",
       "  <tbody>\n",
       "    <tr>\n",
       "      <th>0</th>\n",
       "      <td>-2</td>\n",
       "    </tr>\n",
       "    <tr>\n",
       "      <th>1</th>\n",
       "      <td>-1</td>\n",
       "    </tr>\n",
       "    <tr>\n",
       "      <th>2</th>\n",
       "      <td>1</td>\n",
       "    </tr>\n",
       "    <tr>\n",
       "      <th>3</th>\n",
       "      <td>2</td>\n",
       "    </tr>\n",
       "  </tbody>\n",
       "</table>\n",
       "</div>"
      ],
      "text/plain": [
       "   0\n",
       "0 -2\n",
       "1 -1\n",
       "2  1\n",
       "3  2"
      ]
     },
     "execution_count": 26,
     "metadata": {},
     "output_type": "execute_result"
    }
   ],
   "source": [
    "X = pd.DataFrame(X_nonseparable)\n",
    "X"
   ]
  },
  {
   "cell_type": "code",
   "execution_count": 27,
   "metadata": {},
   "outputs": [
    {
     "data": {
      "text/html": [
       "<div>\n",
       "<style scoped>\n",
       "    .dataframe tbody tr th:only-of-type {\n",
       "        vertical-align: middle;\n",
       "    }\n",
       "\n",
       "    .dataframe tbody tr th {\n",
       "        vertical-align: top;\n",
       "    }\n",
       "\n",
       "    .dataframe thead th {\n",
       "        text-align: right;\n",
       "    }\n",
       "</style>\n",
       "<table border=\"1\" class=\"dataframe\">\n",
       "  <thead>\n",
       "    <tr style=\"text-align: right;\">\n",
       "      <th></th>\n",
       "      <th>0</th>\n",
       "    </tr>\n",
       "  </thead>\n",
       "  <tbody>\n",
       "    <tr>\n",
       "      <th>0</th>\n",
       "      <td>-1</td>\n",
       "    </tr>\n",
       "    <tr>\n",
       "      <th>1</th>\n",
       "      <td>1</td>\n",
       "    </tr>\n",
       "    <tr>\n",
       "      <th>2</th>\n",
       "      <td>-1</td>\n",
       "    </tr>\n",
       "    <tr>\n",
       "      <th>3</th>\n",
       "      <td>1</td>\n",
       "    </tr>\n",
       "  </tbody>\n",
       "</table>\n",
       "</div>"
      ],
      "text/plain": [
       "   0\n",
       "0 -1\n",
       "1  1\n",
       "2 -1\n",
       "3  1"
      ]
     },
     "execution_count": 27,
     "metadata": {},
     "output_type": "execute_result"
    }
   ],
   "source": [
    "y = pd.DataFrame(y_nonseparable)\n",
    "y"
   ]
  },
  {
   "cell_type": "markdown",
   "metadata": {},
   "source": [
    "# Scipy Way (Inseparable)"
   ]
  },
  {
   "cell_type": "code",
   "execution_count": 29,
   "metadata": {},
   "outputs": [
    {
     "data": {
      "text/plain": [
       "     con: array([], dtype=float64)\n",
       "     fun: 3.3294229710976895\n",
       " message: 'The algorithm terminated successfully and determined that the problem is infeasible.'\n",
       "     nit: 4\n",
       "   slack: array([-1.91161049, -1.272659  ,  1.64119799, -4.82546748])\n",
       "  status: 2\n",
       " success: False\n",
       "       x: array([1.87249448, 1.45692849])"
      ]
     },
     "execution_count": 29,
     "metadata": {},
     "output_type": "execute_result"
    }
   ],
   "source": [
    "tmp = X.values\n",
    "tmp = sc.fit_transform(tmp)\n",
    "\n",
    "\n",
    "xx = np.array(y.values.reshape(-1,1) * tmp)\n",
    "t = y.values\n",
    "\n",
    "A_ub = np.append(xx, t.reshape(-1,1), 1)\n",
    "b_ub = np.repeat(-1, A_ub.shape[0]).reshape(-1,1)\n",
    "\n",
    "c_obj = np.repeat(1, A_ub.shape[1])\n",
    "\n",
    "res = linprog(c=c_obj, A_ub=A_ub, b_ub=b_ub, options={\"disp\": False, \"maxiter\":10})\n",
    "res"
   ]
  },
  {
   "cell_type": "markdown",
   "metadata": {},
   "source": [
    "# Gurobi Way (Inseparable)"
   ]
  },
  {
   "cell_type": "code",
   "execution_count": 164,
   "metadata": {},
   "outputs": [
    {
     "name": "stdout",
     "output_type": "stream",
     "text": [
      "Gurobi Optimizer version 9.0.0 build v9.0.0rc2 (linux64)\n",
      "Optimize a model with 4 rows, 2 columns and 8 nonzeros\n",
      "Model fingerprint: 0x4c1c562d\n",
      "Coefficient statistics:\n",
      "  Matrix range     [1e+00, 2e+00]\n",
      "  Objective range  [0e+00, 0e+00]\n",
      "  Bounds range     [0e+00, 0e+00]\n",
      "  RHS range        [1e-06, 1e-06]\n",
      "Presolve removed 2 rows and 0 columns\n",
      "Presolve time: 0.00s\n",
      "Presolved: 2 rows, 2 columns, 4 nonzeros\n",
      "\n",
      "Iteration    Objective       Primal Inf.    Dual Inf.      Time\n",
      "       0    0.0000000e+00   2.384186e-06   0.000000e+00      0s\n",
      "\n",
      "Solved in 0 iterations and 0.01 seconds\n",
      "Infeasible model\n",
      "Model Status: Infeasible\n"
     ]
    }
   ],
   "source": [
    "X_nonseparable = np.array([[-2],[-1],[1],[2]])\n",
    "y_nonseparable = np.array([[-1],[1],[-1],[1]])\n",
    "X = pd.DataFrame(X_nonseparable)\n",
    "n,p = X.shape\n",
    "y = np.squeeze(y_nonseparable)\n",
    "m = Model()\n",
    "v = []\n",
    "\n",
    "\n",
    "# Define variables and add to objective function\n",
    "for i in range(p):\n",
    "    v+= [m.addVar(-GRB.INFINITY,GRB.INFINITY,0,GRB.CONTINUOUS,\"v\"+str(i))]\n",
    "\n",
    "v+= [m.addVar(-GRB.INFINITY,GRB.INFINITY,0,GRB.CONTINUOUS,\"c\")]\n",
    "m.update()\n",
    "X['ones'] = np.ones(n)\n",
    "\n",
    "float32_epsilon = (np.finfo(np.float32).eps)*10\n",
    "\n",
    "# Constraints\n",
    "for i in range(n):\n",
    "    if y[i]>0:\n",
    "        m.addConstr(y[i]*((X.iloc[i]).dot(v))>= 0)\n",
    "    else:\n",
    "        m.addConstr(y[i]*((X.iloc[i]).dot(v))>= float32_epsilon)\n",
    "\n",
    "m.update()\n",
    "\n",
    "# m.ModelSense = -1\n",
    "# m.Params.OutputFlag = 0 # To avoid verbose output of m.optimize()\n",
    "m.optimize() # Run the model\n",
    "\n",
    "if m.status == 3:\n",
    "    model_status = 'Infeasible'\n",
    "else:\n",
    "    model_status = 'Optimal or Others'\n",
    "print('Model Status:',model_status)"
   ]
  },
  {
   "cell_type": "markdown",
   "metadata": {},
   "source": [
    "# Break Down of Codes in Scipy way"
   ]
  },
  {
   "cell_type": "code",
   "execution_count": 39,
   "metadata": {},
   "outputs": [
    {
     "data": {
      "text/html": [
       "<div>\n",
       "<style scoped>\n",
       "    .dataframe tbody tr th:only-of-type {\n",
       "        vertical-align: middle;\n",
       "    }\n",
       "\n",
       "    .dataframe tbody tr th {\n",
       "        vertical-align: top;\n",
       "    }\n",
       "\n",
       "    .dataframe thead th {\n",
       "        text-align: right;\n",
       "    }\n",
       "</style>\n",
       "<table border=\"1\" class=\"dataframe\">\n",
       "  <thead>\n",
       "    <tr style=\"text-align: right;\">\n",
       "      <th></th>\n",
       "      <th>0</th>\n",
       "      <th>1</th>\n",
       "      <th>2</th>\n",
       "    </tr>\n",
       "  </thead>\n",
       "  <tbody>\n",
       "    <tr>\n",
       "      <th>0</th>\n",
       "      <td>1</td>\n",
       "      <td>1</td>\n",
       "      <td>1</td>\n",
       "    </tr>\n",
       "    <tr>\n",
       "      <th>1</th>\n",
       "      <td>1</td>\n",
       "      <td>2</td>\n",
       "      <td>3</td>\n",
       "    </tr>\n",
       "    <tr>\n",
       "      <th>2</th>\n",
       "      <td>1</td>\n",
       "      <td>2</td>\n",
       "      <td>5</td>\n",
       "    </tr>\n",
       "    <tr>\n",
       "      <th>3</th>\n",
       "      <td>1</td>\n",
       "      <td>5</td>\n",
       "      <td>5</td>\n",
       "    </tr>\n",
       "  </tbody>\n",
       "</table>\n",
       "</div>"
      ],
      "text/plain": [
       "   0  1  2\n",
       "0  1  1  1\n",
       "1  1  2  3\n",
       "2  1  2  5\n",
       "3  1  5  5"
      ]
     },
     "execution_count": 39,
     "metadata": {},
     "output_type": "execute_result"
    }
   ],
   "source": [
    "X = pd.DataFrame(X_separable)\n",
    "X"
   ]
  },
  {
   "cell_type": "code",
   "execution_count": 40,
   "metadata": {},
   "outputs": [
    {
     "data": {
      "text/html": [
       "<div>\n",
       "<style scoped>\n",
       "    .dataframe tbody tr th:only-of-type {\n",
       "        vertical-align: middle;\n",
       "    }\n",
       "\n",
       "    .dataframe tbody tr th {\n",
       "        vertical-align: top;\n",
       "    }\n",
       "\n",
       "    .dataframe thead th {\n",
       "        text-align: right;\n",
       "    }\n",
       "</style>\n",
       "<table border=\"1\" class=\"dataframe\">\n",
       "  <thead>\n",
       "    <tr style=\"text-align: right;\">\n",
       "      <th></th>\n",
       "      <th>0</th>\n",
       "    </tr>\n",
       "  </thead>\n",
       "  <tbody>\n",
       "    <tr>\n",
       "      <th>0</th>\n",
       "      <td>-1</td>\n",
       "    </tr>\n",
       "    <tr>\n",
       "      <th>1</th>\n",
       "      <td>-1</td>\n",
       "    </tr>\n",
       "    <tr>\n",
       "      <th>2</th>\n",
       "      <td>1</td>\n",
       "    </tr>\n",
       "    <tr>\n",
       "      <th>3</th>\n",
       "      <td>1</td>\n",
       "    </tr>\n",
       "  </tbody>\n",
       "</table>\n",
       "</div>"
      ],
      "text/plain": [
       "   0\n",
       "0 -1\n",
       "1 -1\n",
       "2  1\n",
       "3  1"
      ]
     },
     "execution_count": 40,
     "metadata": {},
     "output_type": "execute_result"
    }
   ],
   "source": [
    "y= pd.DataFrame(y_separable)\n",
    "y"
   ]
  },
  {
   "cell_type": "code",
   "execution_count": 41,
   "metadata": {},
   "outputs": [
    {
     "data": {
      "text/plain": [
       "array([[1, 1, 1],\n",
       "       [1, 2, 3],\n",
       "       [1, 2, 5],\n",
       "       [1, 5, 5]])"
      ]
     },
     "execution_count": 41,
     "metadata": {},
     "output_type": "execute_result"
    }
   ],
   "source": [
    "tmp = X.values\n",
    "tmp"
   ]
  },
  {
   "cell_type": "code",
   "execution_count": 42,
   "metadata": {},
   "outputs": [
    {
     "data": {
      "text/plain": [
       "array([[ 0.        , -1.        , -1.50755672],\n",
       "       [ 0.        , -0.33333333, -0.30151134],\n",
       "       [ 0.        , -0.33333333,  0.90453403],\n",
       "       [ 0.        ,  1.66666667,  0.90453403]])"
      ]
     },
     "execution_count": 42,
     "metadata": {},
     "output_type": "execute_result"
    }
   ],
   "source": [
    "tmp = sc.fit_transform(tmp)\n",
    "tmp"
   ]
  },
  {
   "cell_type": "code",
   "execution_count": 43,
   "metadata": {},
   "outputs": [
    {
     "data": {
      "text/plain": [
       "array([[-0.        ,  1.        ,  1.50755672],\n",
       "       [-0.        ,  0.33333333,  0.30151134],\n",
       "       [ 0.        , -0.33333333,  0.90453403],\n",
       "       [ 0.        ,  1.66666667,  0.90453403]])"
      ]
     },
     "execution_count": 43,
     "metadata": {},
     "output_type": "execute_result"
    }
   ],
   "source": [
    "xx = np.array(y.values.reshape(-1,1) * tmp)\n",
    "xx"
   ]
  },
  {
   "cell_type": "code",
   "execution_count": 44,
   "metadata": {},
   "outputs": [
    {
     "data": {
      "text/plain": [
       "array([[-1],\n",
       "       [-1],\n",
       "       [ 1],\n",
       "       [ 1]])"
      ]
     },
     "execution_count": 44,
     "metadata": {},
     "output_type": "execute_result"
    }
   ],
   "source": [
    "t = y.values\n",
    "t"
   ]
  },
  {
   "cell_type": "code",
   "execution_count": 46,
   "metadata": {},
   "outputs": [
    {
     "data": {
      "text/plain": [
       "array([[-0.        ,  1.        ,  1.50755672, -1.        ],\n",
       "       [-0.        ,  0.33333333,  0.30151134, -1.        ],\n",
       "       [ 0.        , -0.33333333,  0.90453403,  1.        ],\n",
       "       [ 0.        ,  1.66666667,  0.90453403,  1.        ]])"
      ]
     },
     "execution_count": 46,
     "metadata": {},
     "output_type": "execute_result"
    }
   ],
   "source": [
    "A_ub = np.append(xx, t.reshape(-1,1), 1)\n",
    "A_ub"
   ]
  },
  {
   "cell_type": "code",
   "execution_count": 47,
   "metadata": {},
   "outputs": [
    {
     "data": {
      "text/plain": [
       "array([[-1],\n",
       "       [-1],\n",
       "       [-1],\n",
       "       [-1]])"
      ]
     },
     "execution_count": 47,
     "metadata": {},
     "output_type": "execute_result"
    }
   ],
   "source": [
    "b_ub = np.repeat(-1, A_ub.shape[0]).reshape(-1,1)\n",
    "b_ub"
   ]
  },
  {
   "cell_type": "code",
   "execution_count": 48,
   "metadata": {},
   "outputs": [
    {
     "data": {
      "text/plain": [
       "array([1, 1, 1, 1])"
      ]
     },
     "execution_count": 48,
     "metadata": {},
     "output_type": "execute_result"
    }
   ],
   "source": [
    "c_obj = np.repeat(1, A_ub.shape[1])\n",
    "c_obj"
   ]
  },
  {
   "cell_type": "code",
   "execution_count": 49,
   "metadata": {},
   "outputs": [
    {
     "data": {
      "text/plain": [
       "     con: array([], dtype=float64)\n",
       "     fun: 1.2790274871453626\n",
       " message: 'The algorithm terminated successfully and determined that the problem is infeasible.'\n",
       "     nit: 4\n",
       "   slack: array([-1.97569017, -1.12061871, -1.21656849, -2.7702213 ])\n",
       "  status: 2\n",
       " success: False\n",
       "       x: array([0.        , 0.7768264 , 0.27958086, 0.22262023])"
      ]
     },
     "execution_count": 49,
     "metadata": {},
     "output_type": "execute_result"
    }
   ],
   "source": [
    "res = linprog(c=c_obj, A_ub=A_ub, b_ub=b_ub, options={\"disp\": False, \"maxiter\":1000})\n",
    "res"
   ]
  },
  {
   "cell_type": "markdown",
   "metadata": {},
   "source": [
    "## Let's try another example"
   ]
  },
  {
   "cell_type": "code",
   "execution_count": 160,
   "metadata": {},
   "outputs": [],
   "source": [
    "X_separable = np.array([[1,1],[2,3],[2,5],[5,5]])\n",
    "y_separable = np.array([[-1],[-1],[1],[1]])\n",
    "\n",
    "# X_separable = np.array([[1,1],[2,2],[3,3],[4,4]])\n",
    "# y_separable = np.array([[-1],[-1],[1],[1]])\n",
    "\n",
    "# X_separable = np.array([[-2],[-1],[1],[2]])\n",
    "# y_separable = np.array([[-1],[-1],[1],[1]])"
   ]
  },
  {
   "cell_type": "code",
   "execution_count": 161,
   "metadata": {},
   "outputs": [
    {
     "name": "stdout",
     "output_type": "stream",
     "text": [
      "jaja\n",
      "jaja\n",
      "yaya\n",
      "yaya\n",
      "Gurobi Optimizer version 9.0.0 build v9.0.0rc2 (linux64)\n",
      "Optimize a model with 4 rows, 3 columns and 12 nonzeros\n",
      "Model fingerprint: 0x6f54215c\n",
      "Coefficient statistics:\n",
      "  Matrix range     [1e+00, 5e+00]\n",
      "  Objective range  [0e+00, 0e+00]\n",
      "  Bounds range     [0e+00, 0e+00]\n",
      "  RHS range        [1e-06, 1e-06]\n",
      "Presolve removed 4 rows and 3 columns\n",
      "Presolve time: 0.00s\n",
      "Presolve: All rows and columns removed\n",
      "Iteration    Objective       Primal Inf.    Dual Inf.      Time\n",
      "       0    0.0000000e+00   0.000000e+00   0.000000e+00      0s\n",
      "\n",
      "Solved in 0 iterations and 0.01 seconds\n",
      "Optimal objective  0.000000000e+00\n",
      "Model Status: Optimal or Others\n"
     ]
    }
   ],
   "source": [
    "X = pd.DataFrame(X_separable)\n",
    "n,p = X.shape\n",
    "y = np.squeeze(y_separable)\n",
    "m = Model()\n",
    "v = []\n",
    "\n",
    "\n",
    "# Define variables and add to objective function\n",
    "for i in range(p):\n",
    "    v+= [m.addVar(-GRB.INFINITY,GRB.INFINITY,0,GRB.CONTINUOUS,\"v\"+str(i))]\n",
    "\n",
    "v+= [m.addVar(-GRB.INFINITY,GRB.INFINITY,0,GRB.CONTINUOUS,\"c\")]\n",
    "m.update()\n",
    "X['ones'] = np.ones(n)\n",
    "\n",
    "float32_epsilon = (np.finfo(np.float32).eps)*10\n",
    "\n",
    "# Constraints\n",
    "for i in range(n):\n",
    "    if y[i]>0:\n",
    "        print('yaya')\n",
    "        m.addConstr(y[i]*((X.iloc[i]).dot(v))>= 0)\n",
    "    else:\n",
    "        print('jaja')\n",
    "        m.addConstr(y[i]*((X.iloc[i]).dot(v))>= float32_epsilon)\n",
    "\n",
    "m.update()\n",
    "\n",
    "# m.ModelSense = -1\n",
    "# m.Params.OutputFlag = 0 # To avoid verbose output of m.optimize()\n",
    "m.optimize() # Run the model\n",
    "\n",
    "if m.status == 3:\n",
    "    model_status = 'Infeasible'\n",
    "else:\n",
    "    model_status = 'Optimal or Others'\n",
    "print('Model Status:',model_status)"
   ]
  },
  {
   "cell_type": "code",
   "execution_count": 162,
   "metadata": {},
   "outputs": [
    {
     "name": "stdout",
     "output_type": "stream",
     "text": [
      "v0 : 0\n",
      "v1 : 5.96046e-07\n",
      "c : -2.98023e-06\n"
     ]
    }
   ],
   "source": [
    "for v in m.getVars():\n",
    "        print('%s %s %g' % (v.varName,':', v.x))"
   ]
  },
  {
   "cell_type": "code",
   "execution_count": 21,
   "metadata": {},
   "outputs": [
    {
     "data": {
      "text/plain": [
       "     con: array([], dtype=float64)\n",
       "     fun: 0.0\n",
       " message: 'The algorithm terminated successfully and determined that the problem is infeasible.'\n",
       "     nit: 5\n",
       "   slack: array([-0.00046196, -0.00092273,  0.00138112,  0.00184189])\n",
       "  status: 2\n",
       " success: False\n",
       "       x: array([0.00023039, 0.00023039])"
      ]
     },
     "execution_count": 21,
     "metadata": {},
     "output_type": "execute_result"
    }
   ],
   "source": [
    "t = y\n",
    "float32_epsilon = (np.finfo(np.float32).eps)*10\n",
    "xx = np.array(t.reshape(-1,1) * X.values)\n",
    "neg_ones = np.repeat(-1, X.shape[0]).reshape(-1,1)\n",
    "\n",
    "A_ub = np.array(neg_ones * xx)\n",
    "\n",
    "b_ub = np.repeat(-1*float32_epsilon, X.shape[0]).reshape(-1,1)\n",
    "\n",
    "c_obj = np.repeat(0, X.shape[1])\n",
    "\n",
    "res = linprog(c=c_obj, A_ub=A_ub, b_ub=b_ub, options={\"disp\": False, \"maxiter\":10})\n",
    "res"
   ]
  },
  {
   "cell_type": "code",
   "execution_count": null,
   "metadata": {},
   "outputs": [],
   "source": []
  }
 ],
 "metadata": {
  "kernelspec": {
   "display_name": "Python [conda env:gurobi]",
   "language": "python",
   "name": "conda-env-gurobi-py"
  },
  "language_info": {
   "codemirror_mode": {
    "name": "ipython",
    "version": 3
   },
   "file_extension": ".py",
   "mimetype": "text/x-python",
   "name": "python",
   "nbconvert_exporter": "python",
   "pygments_lexer": "ipython3",
   "version": "3.7.5"
  }
 },
 "nbformat": 4,
 "nbformat_minor": 2
}
