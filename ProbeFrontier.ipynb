{
 "cells": [
  {
   "cell_type": "code",
   "execution_count": 1,
   "metadata": {},
   "outputs": [],
   "source": [
    "########## SECTION 1 - Importing Required Packages and Functions ###############################\n",
    "import pandas as pd\n",
    "import numpy as np \n",
    "import time\n",
    "from simulate import generateData\n",
    "from linear_programs import checkMleExistence"
   ]
  },
  {
   "cell_type": "code",
   "execution_count": 2,
   "metadata": {},
   "outputs": [],
   "source": [
    "########## SECTION 2 - Generating Simulated Dataset ############################################\n",
    "\n",
    "# number of observations\n",
    "n=4000\n",
    "\n",
    "# number of (Gaussian) covariates\n",
    "p=20\n",
    "\n",
    "# signal strength\n",
    "signal_strength = 5\n",
    "\n",
    "# Parameters for Distribution to draw Betas from. Betas ~ N(mu, stdev^2)\n",
    "mu = 0\n",
    "stdev = 1.0\n",
    "\n",
    "# Generate the data\n",
    "# - X is an (n,p+1) dimensional array with the n rows corresponding to observations and the p+1 columns\n",
    "#   corresponding to the covariates + a column of 1's (for the intercept term)\n",
    "# - Beta is the (p+1,) dimensional array of 'True' regression coefficients\n",
    "# - y is the (n,) dimensional array of response values for the observations\n",
    "# - means is the (n,) dimensional array of predicted values (probabilities in case of logistic)\n",
    "# *THOUGHT: Perhaps we could use another term instead of means to avoid confusion with the systematic component?\n",
    "# * perhaps y_hat, preds, etc?\n",
    "X, Beta, y, means = generateData(dist = 'bernoulli', n = n, p = p, mu = mu, stdev = stdev, signal_strength = signal_strength) "
   ]
  },
  {
   "cell_type": "code",
   "execution_count": 3,
   "metadata": {},
   "outputs": [
    {
     "data": {
      "text/plain": [
       "4.999999999999999"
      ]
     },
     "execution_count": 3,
     "metadata": {},
     "output_type": "execute_result"
    }
   ],
   "source": [
    "# Sanity Check 1: Should be equal to signal strength\n",
    "Beta.dot(Beta)/n"
   ]
  },
  {
   "cell_type": "code",
   "execution_count": 4,
   "metadata": {},
   "outputs": [],
   "source": [
    "# Sanity check 2 - Ignore\n",
    "#from simulate import generateRandomBeta\n",
    "#beta = generateRandomBeta(q=p, mu=mu, stdev=stdev)\n",
    "#bb = beta * np.sqrt( (n * signal_strength) / beta.T.dot(beta).values[0,0] )\n",
    "#bb.values.T.dot(bb.values)/n # check"
   ]
  },
  {
   "cell_type": "code",
   "execution_count": 5,
   "metadata": {},
   "outputs": [],
   "source": [
    "# Combining the predictor and response data into a single pandas dataframe df\n",
    "df = pd.DataFrame(X)\n",
    "y = np.array(y)\n",
    "y = np.where(y>0,1,-1)# Changed label 0 to -1, For convenience, we choose the label as {-1,1} instead of {0,1}\n",
    "df['y'] = pd.Series(y)"
   ]
  },
  {
   "cell_type": "code",
   "execution_count": 6,
   "metadata": {},
   "outputs": [
    {
     "data": {
      "text/plain": [
       "(array([79., 97., 80., 62., 68., 75., 55., 46., 62., 44., 54., 43., 47.,\n",
       "        45., 37., 39., 53., 41., 38., 30., 29., 33., 26., 29., 34., 32.,\n",
       "        51., 26., 24., 32., 27., 30., 31., 31., 35., 29., 29., 30., 32.,\n",
       "        26., 18., 18., 25., 23., 24., 30., 29., 29., 34., 24., 32., 37.,\n",
       "        22., 25., 26., 16., 26., 29., 31., 34., 32., 34., 29., 24., 27.,\n",
       "        24., 35., 31., 34., 36., 36., 28., 31., 35., 34., 35., 33., 30.,\n",
       "        30., 33., 34., 36., 50., 37., 41., 42., 55., 46., 57., 38., 49.,\n",
       "        42., 54., 66., 68., 82., 70., 90., 82.]),\n",
       " array([2.48925582e-04, 1.02430594e-02, 2.02371932e-02, 3.02313270e-02,\n",
       "        4.02254609e-02, 5.02195947e-02, 6.02137285e-02, 7.02078623e-02,\n",
       "        8.02019961e-02, 9.01961300e-02, 1.00190264e-01, 1.10184398e-01,\n",
       "        1.20178531e-01, 1.30172665e-01, 1.40166799e-01, 1.50160933e-01,\n",
       "        1.60155067e-01, 1.70149201e-01, 1.80143334e-01, 1.90137468e-01,\n",
       "        2.00131602e-01, 2.10125736e-01, 2.20119870e-01, 2.30114003e-01,\n",
       "        2.40108137e-01, 2.50102271e-01, 2.60096405e-01, 2.70090539e-01,\n",
       "        2.80084673e-01, 2.90078806e-01, 3.00072940e-01, 3.10067074e-01,\n",
       "        3.20061208e-01, 3.30055342e-01, 3.40049475e-01, 3.50043609e-01,\n",
       "        3.60037743e-01, 3.70031877e-01, 3.80026011e-01, 3.90020145e-01,\n",
       "        4.00014278e-01, 4.10008412e-01, 4.20002546e-01, 4.29996680e-01,\n",
       "        4.39990814e-01, 4.49984947e-01, 4.59979081e-01, 4.69973215e-01,\n",
       "        4.79967349e-01, 4.89961483e-01, 4.99955617e-01, 5.09949750e-01,\n",
       "        5.19943884e-01, 5.29938018e-01, 5.39932152e-01, 5.49926286e-01,\n",
       "        5.59920419e-01, 5.69914553e-01, 5.79908687e-01, 5.89902821e-01,\n",
       "        5.99896955e-01, 6.09891089e-01, 6.19885222e-01, 6.29879356e-01,\n",
       "        6.39873490e-01, 6.49867624e-01, 6.59861758e-01, 6.69855891e-01,\n",
       "        6.79850025e-01, 6.89844159e-01, 6.99838293e-01, 7.09832427e-01,\n",
       "        7.19826561e-01, 7.29820694e-01, 7.39814828e-01, 7.49808962e-01,\n",
       "        7.59803096e-01, 7.69797230e-01, 7.79791363e-01, 7.89785497e-01,\n",
       "        7.99779631e-01, 8.09773765e-01, 8.19767899e-01, 8.29762033e-01,\n",
       "        8.39756166e-01, 8.49750300e-01, 8.59744434e-01, 8.69738568e-01,\n",
       "        8.79732702e-01, 8.89726835e-01, 8.99720969e-01, 9.09715103e-01,\n",
       "        9.19709237e-01, 9.29703371e-01, 9.39697505e-01, 9.49691638e-01,\n",
       "        9.59685772e-01, 9.69679906e-01, 9.79674040e-01, 9.89668174e-01]),\n",
       " <a list of 99 Patch objects>)"
      ]
     },
     "execution_count": 6,
     "metadata": {},
     "output_type": "execute_result"
    },
    {
     "data": {
      "image/png": "[encoded data removed]",
      "text/plain": [
       "<Figure size 432x288 with 1 Axes>"
      ]
     },
     "metadata": {
      "needs_background": "light"
     },
     "output_type": "display_data"
    }
   ],
   "source": [
    "# QUICK ASIDE...\n",
    "# Looking at distribution of means\n",
    "import matplotlib.pyplot as plt\n",
    "min_mean = min(means)\n",
    "max_mean = max(means)\n",
    "plt.hist(means, bins=np.arange(min_mean, max_mean, (max_mean-min_mean)/100))"
   ]
  },
  {
   "cell_type": "code",
   "execution_count": 7,
   "metadata": {},
   "outputs": [
    {
     "data": {
      "text/plain": [
       "(array([  1.,   1.,   0.,   0.,   0.,   0.,   0.,   2.,   1.,   1.,   1.,\n",
       "          1.,   2.,   5.,   4.,   5.,   5.,   5.,   6.,   6.,  10.,  15.,\n",
       "         11.,  17.,  26.,  19.,  30.,  28.,  33.,  28.,  40.,  42.,  47.,\n",
       "         63.,  57.,  53.,  82.,  68.,  75.,  82.,  91., 100.,  80.,  78.,\n",
       "        120.,  92., 110., 118.,  94., 102., 115., 121.,  97., 123.,  99.,\n",
       "        120., 109., 106.,  88.,  89.,  97.,  90.,  91.,  82.,  67.,  55.,\n",
       "         65.,  64.,  55.,  61.,  43.,  41.,  39.,  31.,  32.,  17.,  14.,\n",
       "         29.,  17.,  13.,  13.,  13.,   7.,   9.,  11.,   2.,   3.,   3.,\n",
       "          1.,   3.,   0.,   2.,   2.,   0.,   0.,   2.,   1.,   0.,   0.]),\n",
       " array([-8.29810762, -8.13519617, -7.97228472, -7.80937328, -7.64646183,\n",
       "        -7.48355038, -7.32063893, -7.15772749, -6.99481604, -6.83190459,\n",
       "        -6.66899315, -6.5060817 , -6.34317025, -6.1802588 , -6.01734736,\n",
       "        -5.85443591, -5.69152446, -5.52861302, -5.36570157, -5.20279012,\n",
       "        -5.03987867, -4.87696723, -4.71405578, -4.55114433, -4.38823289,\n",
       "        -4.22532144, -4.06240999, -3.89949854, -3.7365871 , -3.57367565,\n",
       "        -3.4107642 , -3.24785276, -3.08494131, -2.92202986, -2.75911841,\n",
       "        -2.59620697, -2.43329552, -2.27038407, -2.10747263, -1.94456118,\n",
       "        -1.78164973, -1.61873828, -1.45582684, -1.29291539, -1.13000394,\n",
       "        -0.9670925 , -0.80418105, -0.6412696 , -0.47835815, -0.31544671,\n",
       "        -0.15253526,  0.01037619,  0.17328763,  0.33619908,  0.49911053,\n",
       "         0.66202198,  0.82493342,  0.98784487,  1.15075632,  1.31366776,\n",
       "         1.47657921,  1.63949066,  1.80240211,  1.96531355,  2.128225  ,\n",
       "         2.29113645,  2.45404789,  2.61695934,  2.77987079,  2.94278224,\n",
       "         3.10569368,  3.26860513,  3.43151658,  3.59442802,  3.75733947,\n",
       "         3.92025092,  4.08316236,  4.24607381,  4.40898526,  4.57189671,\n",
       "         4.73480815,  4.8977196 ,  5.06063105,  5.22354249,  5.38645394,\n",
       "         5.54936539,  5.71227684,  5.87518828,  6.03809973,  6.20101118,\n",
       "         6.36392262,  6.52683407,  6.68974552,  6.85265697,  7.01556841,\n",
       "         7.17847986,  7.34139131,  7.50430275,  7.6672142 ,  7.83012565]),\n",
       " <a list of 99 Patch objects>)"
      ]
     },
     "execution_count": 7,
     "metadata": {},
     "output_type": "execute_result"
    },
    {
     "data": {
      "image/png": "[encoded data removed]",
      "text/plain": [
       "<Figure size 432x288 with 1 Axes>"
      ]
     },
     "metadata": {
      "needs_background": "light"
     },
     "output_type": "display_data"
    }
   ],
   "source": [
    "# Looking at distribution of systematic components (would prefer to call these the \"means\")\n",
    "sys = X.dot(Beta)\n",
    "min_sys = min(sys)\n",
    "max_sys = max(sys)\n",
    "plt.hist(sys, bins=np.arange(min_sys, max_sys, (max_sys-min_sys)/100))"
   ]
  },
  {
   "cell_type": "code",
   "execution_count": 8,
   "metadata": {},
   "outputs": [
    {
     "name": "stdout",
     "output_type": "stream",
     "text": [
      " 2.5th percentile: -4.378841398969048\n",
      "97.5th percentile: 4.435060021295694\n"
     ]
    }
   ],
   "source": [
    "# Checking percentiles of 'sys'. For signal strength of 5, 2.5th percentile should be > ~-4.472\n",
    "# and 97.5th percentile should be < ~4.472\n",
    "print(' 2.5th percentile: '+str(np.percentile(sys,2.5)))\n",
    "print('97.5th percentile: '+str(np.percentile(sys,97.5)))"
   ]
  },
  {
   "cell_type": "code",
   "execution_count": 9,
   "metadata": {},
   "outputs": [
    {
     "name": "stdout",
     "output_type": "stream",
     "text": [
      "Using license file /home/nahid/gurobi.lic\n",
      "Academic license - for non-commercial use only\n",
      "Method Failed, All Subsamples are separable!\n",
      "[1.0, 1.0, 1.0, 1.0, 1.0, 1.0, 1.0, 1.0, 1.0, 1.0, 1.0, 1.0, 1.0, 1.0, 1.0, 1.0, 1.0, 1.0, 1.0, 1.0, 1.0, 1.0, 1.0, 1.0, 1.0, 1.0, 1.0, 1.0, 1.0, 1.0, 1.0, 1.0, 1.0, 1.0, 1.0, 1.0, 1.0, 1.0, 1.0, 1.0, 1.0] 5\n"
     ]
    }
   ],
   "source": [
    "########## SECTION 3 -  ############################################\n",
    "########## SECTION 2 - Generating Simulated Dataset ############################################\n",
    "\n",
    "# Given a data sample (y_i, X_i), start by choosing a \"fine grid\" of kappas <= 1/2\n",
    "kappaArray = np.arange(0.1,0.51,0.01) # CHANGED TO SMALLEST VALUE TO 0.1\n",
    "\n",
    "# Initializing list to hold proportions of times MLE *** does not **** exist at each kappa\n",
    "kappaProportion = []\n",
    "\n",
    "d1 = time.time()\n",
    "\n",
    "# For each k_j in the grid, we do the following:\n",
    "for kappa in kappaArray:\n",
    "    \n",
    "    # Set sample size to n_j =p / k_j (rounding off to nearest integer)\n",
    "    # NOTE: FOR LARGE P THERE MAY NOT BE ENOUGH SAMPLES FOR SMALL KAPPA!\n",
    "    sampleSize = int(round(p/kappa))\n",
    "\n",
    "    # Here, we draw several samples and check to see if the MLE exists. B is the number of\n",
    "    # rounds of sampling\n",
    "    B = 5\n",
    "    \n",
    "    # nMleDNE is the total number of times the MLE *** Does Not Exist *** for each kappa (k_j). This\n",
    "    # is initially set to 0\n",
    "    nMleDNE = 0\n",
    "    for i in range(B):\n",
    "        subSample = df.sample(n=sampleSize) # draw the sample\n",
    "        subSample =subSample.reset_index(drop = True) # Reindexing is necessary because df.sample draws \n",
    "                                                        # the originial index from the dataframe\n",
    "        \n",
    "        mleStatus = checkMleExistence(subSample) # check if MLE exists\n",
    "        # Note that checkMleExistence returns a coded value. The list of coded values can be\n",
    "        # found here: https://www.gurobi.com/documentation/9.0/refman/optimization_status_codes.html\n",
    "        # We are most interested in the number of times (out of B times) MLE does not exist.\n",
    "        # If MLE does not exist, the checkMleExistence function will return status code 2 indicating that the \n",
    "        # LP has an optimal solution. \n",
    "        \n",
    "        if mleStatus == 2:\n",
    "            nMleDNE +=1\n",
    "            \n",
    "    # Dividing nMleExist by B gives an estimate of the proportion of times the MLE exists.\n",
    "    propMleDNE = nMleDNE/B\n",
    "    kappaProportion.append(propMleDNE)\n",
    "    \n",
    "\n",
    "# Now, we need (kappa_j-1, kappa_j) such that kappa_j is the smallest value for which the proportion of times\n",
    "# the MLE does not exist\n",
    "uIdx = 0\n",
    "for kappaProp in kappaProportion:\n",
    "    if kappaProp>=0.5:\n",
    "        uIdx = kappaProportion.index(kappaProp) # index of kappa_j\n",
    "        break\n",
    "if uIdx != 0:\n",
    "    uKappa = kappaArray[uIdx] # kappa_j\n",
    "    lKappa = kappaArray[uIdx-1] # kappa_j-1\n",
    "else:\n",
    "    print('Method Failed, All Subsamples are separable!')\n",
    "\n",
    "d2 = time.time()\n",
    "delta = round(d2 - d1)\n",
    "print(kappaProportion, delta)"
   ]
  },
  {
   "cell_type": "code",
   "execution_count": null,
   "metadata": {},
   "outputs": [],
   "source": []
  }
 ],
 "metadata": {
  "kernelspec": {
   "display_name": "Python 3",
   "language": "python",
   "name": "python3"
  },
  "language_info": {
   "codemirror_mode": {
    "name": "ipython",
    "version": 3
   },
   "file_extension": ".py",
   "mimetype": "text/x-python",
   "name": "python",
   "nbconvert_exporter": "python",
   "pygments_lexer": "ipython3",
   "version": "3.7.6"
  }
 },
 "nbformat": 4,
 "nbformat_minor": 2
}
