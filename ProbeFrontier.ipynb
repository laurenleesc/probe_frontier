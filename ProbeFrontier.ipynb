{
 "cells": [
  {
   "cell_type": "code",
   "execution_count": 2,
   "metadata": {},
   "outputs": [],
   "source": [
    "########## SECTION 1 - Importing Required Packages and Functions ###############################\n",
    "import pandas as pd\n",
    "import numpy as np \n",
    "import time\n",
    "from simulate import generateData\n",
    "from linear_programs import checkMleExistence"
   ]
  },
  {
   "cell_type": "code",
   "execution_count": 3,
   "metadata": {},
   "outputs": [],
   "source": [
    "########## SECTION 2 - Generating Simulated Dataset ############################################\n",
    "\n",
    "# number of observations\n",
    "n=4000\n",
    "\n",
    "# number of (Gaussian) covariates\n",
    "p=20\n",
    "\n",
    "# signal strength\n",
    "signal_strength = 5\n",
    "\n",
    "# Parameters for Distribution to draw Betas from. Betas ~ N(mu, stdev^2)\n",
    "mu = 0\n",
    "stdev = 1.0\n",
    "\n",
    "# Generate the data\n",
    "# - X is an (n,p+1) dimensional array with the n rows corresponding to observations and the p+1 columns\n",
    "#   corresponding to the covariates + a column of 1's (for the intercept term)\n",
    "# - Beta is the (p+1,) dimensional array of 'True' regression coefficients\n",
    "# - y is the (n,) dimensional array of response values for the observations\n",
    "# - means is the (n,) dimensional array of predicted values (probabilities in case of logistic)\n",
    "# *THOUGHT: Perhaps we could use another term instead of means to avoid confusion with the systematic component?\n",
    "# * perhaps y_hat, preds, etc?\n",
    "X, Beta, y, means = generateData(dist = 'bernoulli', n = n, p = p, mu = mu, stdev = stdev, signal_strength = signal_strength) "
   ]
  },
  {
   "cell_type": "code",
   "execution_count": 4,
   "metadata": {},
   "outputs": [
    {
     "data": {
      "text/plain": [
       "5.000000000000001"
      ]
     },
     "execution_count": 4,
     "metadata": {},
     "output_type": "execute_result"
    }
   ],
   "source": [
    "# Sanity Check 1: Should be equal to signal strength\n",
    "Beta.dot(Beta)/n"
   ]
  },
  {
   "cell_type": "code",
   "execution_count": 5,
   "metadata": {},
   "outputs": [],
   "source": [
    "# Sanity check 2 - Ignore\n",
    "#from simulate import generateRandomBeta\n",
    "#beta = generateRandomBeta(q=p, mu=mu, stdev=stdev)\n",
    "#bb = beta * np.sqrt( (n * signal_strength) / beta.T.dot(beta).values[0,0] )\n",
    "#bb.values.T.dot(bb.values)/n # check"
   ]
  },
  {
   "cell_type": "code",
   "execution_count": 6,
   "metadata": {},
   "outputs": [],
   "source": [
    "# Combining the predictor and response data into a single pandas dataframe df\n",
    "df = pd.DataFrame(X)\n",
    "y = np.array(y)\n",
    "y = np.where(y>0,1,-1)# Changed label 0 to -1, For convenience, we choose the label as {-1,1} instead of {0,1}\n",
    "df['y'] = pd.Series(y)"
   ]
  },
  {
   "cell_type": "code",
   "execution_count": 7,
   "metadata": {},
   "outputs": [
    {
     "data": {
      "text/plain": [
       "(array([79., 75., 79., 74., 63., 54., 45., 61., 62., 53., 44., 40., 42.,\n",
       "        40., 39., 41., 48., 34., 37., 41., 36., 33., 39., 38., 43., 42.,\n",
       "        27., 33., 29., 28., 33., 32., 27., 22., 26., 33., 32., 31., 29.,\n",
       "        26., 30., 37., 30., 20., 29., 26., 33., 23., 29., 25., 18., 28.,\n",
       "        26., 31., 30., 32., 30., 23., 36., 29., 35., 16., 35., 37., 25.,\n",
       "        40., 30., 23., 27., 24., 35., 26., 28., 28., 33., 42., 37., 33.,\n",
       "        40., 31., 41., 42., 46., 49., 39., 48., 52., 58., 48., 48., 46.,\n",
       "        56., 60., 63., 54., 75., 57., 77., 75.]),\n",
       " array([6.05550524e-04, 1.05982987e-02, 2.05910468e-02, 3.05837949e-02,\n",
       "        4.05765431e-02, 5.05692912e-02, 6.05620394e-02, 7.05547875e-02,\n",
       "        8.05475356e-02, 9.05402838e-02, 1.00533032e-01, 1.10525780e-01,\n",
       "        1.20518528e-01, 1.30511276e-01, 1.40504024e-01, 1.50496773e-01,\n",
       "        1.60489521e-01, 1.70482269e-01, 1.80475017e-01, 1.90467765e-01,\n",
       "        2.00460513e-01, 2.10453261e-01, 2.20446010e-01, 2.30438758e-01,\n",
       "        2.40431506e-01, 2.50424254e-01, 2.60417002e-01, 2.70409750e-01,\n",
       "        2.80402498e-01, 2.90395247e-01, 3.00387995e-01, 3.10380743e-01,\n",
       "        3.20373491e-01, 3.30366239e-01, 3.40358987e-01, 3.50351735e-01,\n",
       "        3.60344483e-01, 3.70337232e-01, 3.80329980e-01, 3.90322728e-01,\n",
       "        4.00315476e-01, 4.10308224e-01, 4.20300972e-01, 4.30293720e-01,\n",
       "        4.40286469e-01, 4.50279217e-01, 4.60271965e-01, 4.70264713e-01,\n",
       "        4.80257461e-01, 4.90250209e-01, 5.00242957e-01, 5.10235706e-01,\n",
       "        5.20228454e-01, 5.30221202e-01, 5.40213950e-01, 5.50206698e-01,\n",
       "        5.60199446e-01, 5.70192194e-01, 5.80184943e-01, 5.90177691e-01,\n",
       "        6.00170439e-01, 6.10163187e-01, 6.20155935e-01, 6.30148683e-01,\n",
       "        6.40141431e-01, 6.50134179e-01, 6.60126928e-01, 6.70119676e-01,\n",
       "        6.80112424e-01, 6.90105172e-01, 7.00097920e-01, 7.10090668e-01,\n",
       "        7.20083416e-01, 7.30076165e-01, 7.40068913e-01, 7.50061661e-01,\n",
       "        7.60054409e-01, 7.70047157e-01, 7.80039905e-01, 7.90032653e-01,\n",
       "        8.00025402e-01, 8.10018150e-01, 8.20010898e-01, 8.30003646e-01,\n",
       "        8.39996394e-01, 8.49989142e-01, 8.59981890e-01, 8.69974639e-01,\n",
       "        8.79967387e-01, 8.89960135e-01, 8.99952883e-01, 9.09945631e-01,\n",
       "        9.19938379e-01, 9.29931127e-01, 9.39923875e-01, 9.49916624e-01,\n",
       "        9.59909372e-01, 9.69902120e-01, 9.79894868e-01, 9.89887616e-01]),\n",
       " <a list of 99 Patch objects>)"
      ]
     },
     "execution_count": 7,
     "metadata": {},
     "output_type": "execute_result"
    },
    {
     "data": {
      "image/png": "[encoded data removed]",
      "text/plain": [
       "<Figure size 432x288 with 1 Axes>"
      ]
     },
     "metadata": {
      "needs_background": "light"
     },
     "output_type": "display_data"
    }
   ],
   "source": [
    "# QUICK ASIDE...\n",
    "# Looking at distribution of means\n",
    "import matplotlib.pyplot as plt\n",
    "min_mean = min(means)\n",
    "max_mean = max(means)\n",
    "plt.hist(means, bins=np.arange(min_mean, max_mean, (max_mean-min_mean)/100))"
   ]
  },
  {
   "cell_type": "code",
   "execution_count": 8,
   "metadata": {},
   "outputs": [
    {
     "data": {
      "text/plain": [
       "(array([  1.,   0.,   0.,   0.,   1.,   4.,   1.,   1.,   4.,   3.,   3.,\n",
       "          4.,   6.,   6.,   9.,  12.,  11.,  19.,  15.,  16.,  27.,  20.,\n",
       "         32.,  34.,  35.,  47.,  48.,  52.,  41.,  60.,  79.,  67.,  71.,\n",
       "         77.,  84., 101.,  93., 106., 116., 102., 102., 109., 125., 102.,\n",
       "        119., 107., 115., 116., 127.,  97.,  96., 109., 108.,  92., 115.,\n",
       "         97.,  84.,  89.,  71.,  72.,  70.,  59.,  44.,  54.,  36.,  34.,\n",
       "         24.,  34.,  35.,  23.,  21.,  11.,  10.,  12.,  14.,   8.,   7.,\n",
       "          9.,  11.,   4.,   6.,   2.,   2.,   2.,   0.,   3.,   1.,   0.,\n",
       "          2.,   0.,   0.,   1.,   0.,   0.,   0.,   0.,   0.,   0.,   0.]),\n",
       " array([-7.40876682, -7.24436976, -7.07997269, -6.91557563, -6.75117856,\n",
       "        -6.5867815 , -6.42238443, -6.25798737, -6.09359031, -5.92919324,\n",
       "        -5.76479618, -5.60039911, -5.43600205, -5.27160498, -5.10720792,\n",
       "        -4.94281085, -4.77841379, -4.61401672, -4.44961966, -4.28522259,\n",
       "        -4.12082553, -3.95642846, -3.7920314 , -3.62763433, -3.46323727,\n",
       "        -3.29884021, -3.13444314, -2.97004608, -2.80564901, -2.64125195,\n",
       "        -2.47685488, -2.31245782, -2.14806075, -1.98366369, -1.81926662,\n",
       "        -1.65486956, -1.49047249, -1.32607543, -1.16167836, -0.9972813 ,\n",
       "        -0.83288423, -0.66848717, -0.5040901 , -0.33969304, -0.17529598,\n",
       "        -0.01089891,  0.15349815,  0.31789522,  0.48229228,  0.64668935,\n",
       "         0.81108641,  0.97548348,  1.13988054,  1.30427761,  1.46867467,\n",
       "         1.63307174,  1.7974688 ,  1.96186587,  2.12626293,  2.29066   ,\n",
       "         2.45505706,  2.61945412,  2.78385119,  2.94824825,  3.11264532,\n",
       "         3.27704238,  3.44143945,  3.60583651,  3.77023358,  3.93463064,\n",
       "         4.09902771,  4.26342477,  4.42782184,  4.5922189 ,  4.75661597,\n",
       "         4.92101303,  5.0854101 ,  5.24980716,  5.41420423,  5.57860129,\n",
       "         5.74299835,  5.90739542,  6.07179248,  6.23618955,  6.40058661,\n",
       "         6.56498368,  6.72938074,  6.89377781,  7.05817487,  7.22257194,\n",
       "         7.386969  ,  7.55136607,  7.71576313,  7.8801602 ,  8.04455726,\n",
       "         8.20895433,  8.37335139,  8.53774845,  8.70214552,  8.86654258]),\n",
       " <a list of 99 Patch objects>)"
      ]
     },
     "execution_count": 8,
     "metadata": {},
     "output_type": "execute_result"
    },
    {
     "data": {
      "image/png": "[encoded data removed]",
      "text/plain": [
       "<Figure size 432x288 with 1 Axes>"
      ]
     },
     "metadata": {
      "needs_background": "light"
     },
     "output_type": "display_data"
    }
   ],
   "source": [
    "# Looking at distribution of systematic components (would prefer to call these the \"means\")\n",
    "sys = X.dot(Beta)\n",
    "min_sys = min(sys)\n",
    "max_sys = max(sys)\n",
    "plt.hist(sys, bins=np.arange(min_sys, max_sys, (max_sys-min_sys)/100))"
   ]
  },
  {
   "cell_type": "code",
   "execution_count": 9,
   "metadata": {},
   "outputs": [
    {
     "name": "stdout",
     "output_type": "stream",
     "text": [
      " 2.5th percentile: -4.239251564625455\n",
      "97.5th percentile: 4.318589933411571\n"
     ]
    }
   ],
   "source": [
    "# Checking percentiles of 'sys'. For signal strength of 5, 2.5th percentile should be > ~-4.472\n",
    "# and 97.5th percentile should be < ~4.472\n",
    "print(' 2.5th percentile: '+str(np.percentile(sys,2.5)))\n",
    "print('97.5th percentile: '+str(np.percentile(sys,97.5)))"
   ]
  },
  {
   "cell_type": "code",
   "execution_count": 55,
   "metadata": {},
   "outputs": [
    {
     "name": "stdout",
     "output_type": "stream",
     "text": [
      "Method Failed, All Subsamples are separable!\n",
      "[1.0, 1.0, 1.0, 1.0, 1.0, 1.0, 1.0, 1.0, 1.0, 1.0, 1.0, 1.0, 1.0, 1.0, 1.0, 1.0, 1.0, 1.0, 1.0, 1.0, 1.0, 1.0, 1.0, 1.0, 1.0, 1.0, 1.0, 1.0, 1.0, 1.0, 1.0, 1.0, 1.0, 1.0, 1.0, 1.0, 1.0, 1.0, 1.0, 1.0, 1.0] 2\n"
     ]
    }
   ],
   "source": [
    "########## SECTION 3 -  ############################################\n",
    "########## SECTION 2 - Generating Simulated Dataset ############################################\n",
    "\n",
    "# Given a data sample (y_i, X_i), start by choosing a \"fine grid\" of kappas <= 1/2\n",
    "kappaArray = np.arange(0.1,0.51,0.01) # CHANGED TO SMALLEST VALUE TO 0.1\n",
    "\n",
    "# Initializing list to hold proportions of times MLE *** does not **** exist at each kappa\n",
    "kappaProportion = []\n",
    "\n",
    "d1 = time.time()\n",
    "\n",
    "# For each k_j in the grid, we do the following:\n",
    "for kappa in kappaArray:\n",
    "    \n",
    "    # Set sample size to n_j =p / k_j (rounding off to nearest integer)\n",
    "    # NOTE: FOR LARGE P THERE MAY NOT BE ENOUGH SAMPLES FOR SMALL KAPPA!\n",
    "    sampleSize = int(round(p/kappa))\n",
    "\n",
    "    # Here, we draw several samples and check to see if the MLE exists. B is the number of\n",
    "    # rounds of sampling\n",
    "    B = 5\n",
    "    \n",
    "    # nMleDNE is the total number of times the MLE *** Does Not Exist *** for each kappa (k_j). This\n",
    "    # is initially set to 0\n",
    "    nMleDNE = 0\n",
    "    for i in range(B):\n",
    "        subSample = df.sample(n=sampleSize) # draw the sample\n",
    "        subSample =subSample.reset_index(drop = True) # Reindexing is necessary because df.sample draws \n",
    "                                                        # the originial index from the dataframe\n",
    "        \n",
    "        mleStatus = checkMleExistence(subSample) # check if MLE exists\n",
    "        # Note that checkMleExistence returns a coded value. The list of coded values can be\n",
    "        # found here: https://www.gurobi.com/documentation/9.0/refman/optimization_status_codes.html\n",
    "        # We are most interested in the number of times (out of B times) MLE does not exist.\n",
    "        # If MLE does not exist, the checkMleExistence function will return status code 2 indicating that the \n",
    "        # LP has an optimal solution. \n",
    "        \n",
    "        if mleStatus == 2:\n",
    "            nMleDNE +=1\n",
    "            \n",
    "    # Dividing nMleExist by B gives an estimate of the proportion of times the MLE exists.\n",
    "    propMleDNE = nMleDNE/B\n",
    "    kappaProportion.append(propMleDNE)\n",
    "    \n",
    "\n",
    "# Now, we need (kappa_j-1, kappa_j) such that kappa_j is the smallest value for which the proportion of times\n",
    "# the MLE does not exist\n",
    "uIdx = 0\n",
    "for kappaProp in kappaProportion:\n",
    "    if kappaProp>=0.5:\n",
    "        uIdx = kappaProportion.index(kappaProp) # index of kappa_j\n",
    "        break\n",
    "if uIdx != 0:\n",
    "    uKappa = kappaArray[uIdx] # kappa_j\n",
    "    lKappa = kappaArray[uIdx-1] # kappa_j-1\n",
    "else:\n",
    "    print('Method Failed, All Subsamples are separable!')\n",
    "\n",
    "d2 = time.time()\n",
    "delta = round(d2 - d1)\n",
    "print(kappaProportion, delta)"
   ]
  },
  {
   "cell_type": "code",
   "execution_count": null,
   "metadata": {},
   "outputs": [],
   "source": []
  }
 ],
 "metadata": {
  "kernelspec": {
   "display_name": "Python [conda env:gurobi]",
   "language": "python",
   "name": "conda-env-gurobi-py"
  },
  "language_info": {
   "codemirror_mode": {
    "name": "ipython",
    "version": 3
   },
   "file_extension": ".py",
   "mimetype": "text/x-python",
   "name": "python",
   "nbconvert_exporter": "python",
   "pygments_lexer": "ipython3",
   "version": "3.7.5"
  }
 },
 "nbformat": 4,
 "nbformat_minor": 2
}
